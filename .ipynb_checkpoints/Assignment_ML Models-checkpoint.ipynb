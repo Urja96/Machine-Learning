{
 "cells": [
  {
   "cell_type": "markdown",
   "metadata": {},
   "source": [
    "# Abstract"
   ]
  },
  {
   "cell_type": "code",
   "execution_count": 665,
   "metadata": {},
   "outputs": [],
   "source": [
    "from  __future__  import print_function\n",
    "%matplotlib inline\n",
    "import pandas as pd\n",
    "import matplotlib.pyplot as plt\n",
    "import numpy as np\n",
    "from scipy import stats\n",
    "import seaborn as sns\n",
    "import statsmodels.api as sm\n",
    "import statsmodels.formula.api as smf\n",
    "import statsmodels.stats.api as sms\n",
    "from scipy import stats\n",
    "from statsmodels.compat import lzip\n",
    "from sklearn import linear_model\n",
    "from statsmodels.formula.api import ols\n",
    "import statsmodels.formula.api as smf\n",
    "from sklearn.linear_model import LinearRegression, Ridge, Lasso\n",
    "from sklearn.preprocessing import PolynomialFeatures\n",
    "from sklearn.pipeline import make_pipeline\n",
    "import warnings\n",
    "from sklearn.model_selection import KFold,RepeatedKFold\n",
    "from sklearn import metrics"
   ]
  },
  {
   "cell_type": "code",
   "execution_count": 666,
   "metadata": {},
   "outputs": [
    {
     "data": {
      "text/html": [
       "<div>\n",
       "<style scoped>\n",
       "    .dataframe tbody tr th:only-of-type {\n",
       "        vertical-align: middle;\n",
       "    }\n",
       "\n",
       "    .dataframe tbody tr th {\n",
       "        vertical-align: top;\n",
       "    }\n",
       "\n",
       "    .dataframe thead th {\n",
       "        text-align: right;\n",
       "    }\n",
       "</style>\n",
       "<table border=\"1\" class=\"dataframe\">\n",
       "  <thead>\n",
       "    <tr style=\"text-align: right;\">\n",
       "      <th></th>\n",
       "      <th>age</th>\n",
       "      <th>sex</th>\n",
       "      <th>sample.yr</th>\n",
       "      <th>kappa</th>\n",
       "      <th>lambda</th>\n",
       "      <th>flc.grp</th>\n",
       "      <th>creatinine</th>\n",
       "      <th>mgus</th>\n",
       "      <th>futime</th>\n",
       "      <th>death</th>\n",
       "      <th>chapter</th>\n",
       "    </tr>\n",
       "  </thead>\n",
       "  <tbody>\n",
       "    <tr>\n",
       "      <th>0</th>\n",
       "      <td>97</td>\n",
       "      <td>F</td>\n",
       "      <td>1997</td>\n",
       "      <td>5.70</td>\n",
       "      <td>4.860</td>\n",
       "      <td>10</td>\n",
       "      <td>1.7</td>\n",
       "      <td>0</td>\n",
       "      <td>85</td>\n",
       "      <td>1</td>\n",
       "      <td>Circulatory</td>\n",
       "    </tr>\n",
       "    <tr>\n",
       "      <th>1</th>\n",
       "      <td>92</td>\n",
       "      <td>F</td>\n",
       "      <td>2000</td>\n",
       "      <td>0.87</td>\n",
       "      <td>0.683</td>\n",
       "      <td>1</td>\n",
       "      <td>0.9</td>\n",
       "      <td>0</td>\n",
       "      <td>1281</td>\n",
       "      <td>1</td>\n",
       "      <td>Neoplasms</td>\n",
       "    </tr>\n",
       "    <tr>\n",
       "      <th>2</th>\n",
       "      <td>94</td>\n",
       "      <td>F</td>\n",
       "      <td>1997</td>\n",
       "      <td>4.36</td>\n",
       "      <td>3.850</td>\n",
       "      <td>10</td>\n",
       "      <td>1.4</td>\n",
       "      <td>0</td>\n",
       "      <td>69</td>\n",
       "      <td>1</td>\n",
       "      <td>Circulatory</td>\n",
       "    </tr>\n",
       "    <tr>\n",
       "      <th>3</th>\n",
       "      <td>92</td>\n",
       "      <td>F</td>\n",
       "      <td>1996</td>\n",
       "      <td>2.42</td>\n",
       "      <td>2.220</td>\n",
       "      <td>9</td>\n",
       "      <td>1.0</td>\n",
       "      <td>0</td>\n",
       "      <td>115</td>\n",
       "      <td>1</td>\n",
       "      <td>Circulatory</td>\n",
       "    </tr>\n",
       "    <tr>\n",
       "      <th>4</th>\n",
       "      <td>93</td>\n",
       "      <td>F</td>\n",
       "      <td>1996</td>\n",
       "      <td>1.32</td>\n",
       "      <td>1.690</td>\n",
       "      <td>6</td>\n",
       "      <td>1.1</td>\n",
       "      <td>0</td>\n",
       "      <td>1039</td>\n",
       "      <td>1</td>\n",
       "      <td>Circulatory</td>\n",
       "    </tr>\n",
       "  </tbody>\n",
       "</table>\n",
       "</div>"
      ],
      "text/plain": [
       "   age sex  sample.yr  kappa  lambda  flc.grp  creatinine  mgus  futime  \\\n",
       "0   97   F       1997   5.70   4.860       10         1.7     0      85   \n",
       "1   92   F       2000   0.87   0.683        1         0.9     0    1281   \n",
       "2   94   F       1997   4.36   3.850       10         1.4     0      69   \n",
       "3   92   F       1996   2.42   2.220        9         1.0     0     115   \n",
       "4   93   F       1996   1.32   1.690        6         1.1     0    1039   \n",
       "\n",
       "   death      chapter  \n",
       "0      1  Circulatory  \n",
       "1      1    Neoplasms  \n",
       "2      1  Circulatory  \n",
       "3      1  Circulatory  \n",
       "4      1  Circulatory  "
      ]
     },
     "execution_count": 666,
     "metadata": {},
     "output_type": "execute_result"
    }
   ],
   "source": [
    "# Load the data into a pandas dataframe# Load  \n",
    "df = pd.read_csv('flchain.csv')\n",
    "df.head()"
   ]
  },
  {
   "cell_type": "markdown",
   "metadata": {},
   "source": [
    "Checking errorenous data, if there then it can lead to a wrong analysis and in that case we need to clean the data."
   ]
  },
  {
   "cell_type": "markdown",
   "metadata": {},
   "source": [
    "# Data Cleaning"
   ]
  },
  {
   "cell_type": "markdown",
   "metadata": {},
   "source": [
    "Data cleaninng is the most important and very first step in any data analysis because it will not only detect or correct the data but also make the analysis more accurate. Accurate analysis gives best predictions."
   ]
  },
  {
   "cell_type": "code",
   "execution_count": 667,
   "metadata": {},
   "outputs": [
    {
     "name": "stdout",
     "output_type": "stream",
     "text": [
      "Is there any missing data present in the data set ?\n"
     ]
    },
    {
     "data": {
      "text/plain": [
       "True"
      ]
     },
     "execution_count": 667,
     "metadata": {},
     "output_type": "execute_result"
    }
   ],
   "source": [
    "# Checking for null values\n",
    "print (\"Is there any missing data present in the data set ?\")\n",
    "(df.isnull().values.any())"
   ]
  },
  {
   "cell_type": "markdown",
   "metadata": {},
   "source": [
    "Since there is missing data, it is required to find out approximately how much data is missing."
   ]
  },
  {
   "cell_type": "code",
   "execution_count": 668,
   "metadata": {},
   "outputs": [
    {
     "name": "stdout",
     "output_type": "stream",
     "text": [
      "\n",
      "\n",
      "Total data missing in the whole data set is 1350\n",
      "Total percentage of the missing data in the data set is  1.5586394809153254 %\n"
     ]
    }
   ],
   "source": [
    "total = df.isnull().sum().sum()\n",
    "print(\"\\n\")\n",
    "print(\"Total data missing in the whole data set is\", total)\n",
    "rows = len(df)\n",
    "cols = len(df.columns)\n",
    "totaldata = rows * cols\n",
    "percentage = (total / totaldata) * 100\n",
    "\n",
    "print(\"Total percentage of the missing data in the data set is \", percentage, \"%\")"
   ]
  },
  {
   "cell_type": "markdown",
   "metadata": {},
   "source": [
    "So on calculating the total percentage of misiing data it comes approximately to be **1.5%**, this is not very big amount of missing data but it may also lead to the wrong analysis. In any data analysis data cleaning is required to predict the accurate outecome. Thus data cleaning has to be done before any analysis. We can either remove the cells with null data or we can replace the missing data with median, mean or mode. Generally it is preferred to replace with median."
   ]
  },
  {
   "cell_type": "code",
   "execution_count": 669,
   "metadata": {
    "scrolled": true
   },
   "outputs": [
    {
     "data": {
      "text/html": [
       "<div>\n",
       "<style scoped>\n",
       "    .dataframe tbody tr th:only-of-type {\n",
       "        vertical-align: middle;\n",
       "    }\n",
       "\n",
       "    .dataframe tbody tr th {\n",
       "        vertical-align: top;\n",
       "    }\n",
       "\n",
       "    .dataframe thead th {\n",
       "        text-align: right;\n",
       "    }\n",
       "</style>\n",
       "<table border=\"1\" class=\"dataframe\">\n",
       "  <thead>\n",
       "    <tr style=\"text-align: right;\">\n",
       "      <th></th>\n",
       "      <th>total_missing</th>\n",
       "      <th>percent</th>\n",
       "    </tr>\n",
       "  </thead>\n",
       "  <tbody>\n",
       "    <tr>\n",
       "      <th>creatinine</th>\n",
       "      <td>1350</td>\n",
       "      <td>17.15</td>\n",
       "    </tr>\n",
       "  </tbody>\n",
       "</table>\n",
       "</div>"
      ],
      "text/plain": [
       "            total_missing  percent\n",
       "creatinine           1350    17.15"
      ]
     },
     "execution_count": 669,
     "metadata": {},
     "output_type": "execute_result"
    }
   ],
   "source": [
    "total = df.isnull().sum()[df.isnull().sum() != 0].sort_values(ascending = False)\n",
    "percent = pd.Series(round(total/len(df)*100,2))\n",
    "pd.concat([total, percent], axis=1, keys=['total_missing', 'percent'])"
   ]
  },
  {
   "cell_type": "markdown",
   "metadata": {},
   "source": [
    "From the above calculation it is seen that around 17.15% of creatinine data is missing from the creatinine data. This problem has to be solved by data cleaning that is by filling the missing data or removing it."
   ]
  },
  {
   "cell_type": "code",
   "execution_count": 670,
   "metadata": {},
   "outputs": [
    {
     "data": {
      "text/plain": [
       "count    6524.000000\n",
       "mean        1.093516\n",
       "std         0.416507\n",
       "min         0.400000\n",
       "25%         0.900000\n",
       "50%         1.000000\n",
       "75%         1.200000\n",
       "max        10.800000\n",
       "Name: creatinine, dtype: float64"
      ]
     },
     "execution_count": 670,
     "metadata": {},
     "output_type": "execute_result"
    }
   ],
   "source": [
    "df['creatinine'].describe()"
   ]
  },
  {
   "cell_type": "code",
   "execution_count": 671,
   "metadata": {},
   "outputs": [],
   "source": [
    "# sns.distplot(df['creatinine'], color = 'orange',kde = True)"
   ]
  },
  {
   "cell_type": "code",
   "execution_count": 672,
   "metadata": {
    "scrolled": false
   },
   "outputs": [
    {
     "data": {
      "text/plain": [
       "<matplotlib.axes._subplots.AxesSubplot at 0xed3725780>"
      ]
     },
     "execution_count": 672,
     "metadata": {},
     "output_type": "execute_result"
    },
    {
     "data": {
      "image/png": "[encoded data removed]",
      "text/plain": [
       "<Figure size 432x288 with 1 Axes>"
      ]
     },
     "metadata": {
      "needs_background": "light"
     },
     "output_type": "display_data"
    }
   ],
   "source": [
    "sns.boxplot(np.array(df['creatinine']))"
   ]
  },
  {
   "cell_type": "markdown",
   "metadata": {},
   "source": [
    "for data cleaning here method used is:\n",
    "   * filling the null values with the median. \n",
    "   * to do this inbuilt function fillna is used.\n",
    "   * median of creatinine is used to fill the nulls in the creatinine column"
   ]
  },
  {
   "cell_type": "code",
   "execution_count": 673,
   "metadata": {},
   "outputs": [],
   "source": [
    "newcreatinine = df['creatinine']\n",
    "non_nan = newcreatinine.fillna(newcreatinine.median(), inplace=True)"
   ]
  },
  {
   "cell_type": "code",
   "execution_count": null,
   "metadata": {},
   "outputs": [
    {
     "name": "stdout",
     "output_type": "stream",
     "text": [
      "Is there any missing data present in the data set ?\n"
     ]
    },
    {
     "data": {
      "text/plain": [
       "False"
      ]
     },
     "execution_count": 674,
     "metadata": {},
     "output_type": "execute_result"
    }
   ],
   "source": [
    "print (\"Is there any missing data present in the data set ?\")\n",
    "(df['creatinine'].isnull().values.any()) "
   ]
  },
  {
   "cell_type": "code",
   "execution_count": null,
   "metadata": {},
   "outputs": [
    {
     "name": "stderr",
     "output_type": "stream",
     "text": [
      "C:\\Users\\hp\\Anaconda3\\lib\\site-packages\\scipy\\stats\\stats.py:1713: FutureWarning: Using a non-tuple sequence for multidimensional indexing is deprecated; use `arr[tuple(seq)]` instead of `arr[seq]`. In the future this will be interpreted as an array index, `arr[np.array(seq)]`, which will result either in an error or a different result.\n",
      "  return np.add.reduce(sorted[indexer] * weights, axis=axis) / sumval\n"
     ]
    },
    {
     "data": {
      "text/plain": [
       "<matplotlib.axes._subplots.AxesSubplot at 0xed4b4e748>"
      ]
     },
     "execution_count": 675,
     "metadata": {},
     "output_type": "execute_result"
    },
    {
     "data": {
      "image/png": "[encoded data removed]",
      "text/plain": [
       "<Figure size 432x288 with 1 Axes>"
      ]
     },
     "metadata": {
      "needs_background": "light"
     },
     "output_type": "display_data"
    }
   ],
   "source": [
    "sns.distplot(df['creatinine'], color = 'orange',kde = True)"
   ]
  },
  {
   "cell_type": "markdown",
   "metadata": {},
   "source": [
    "Since there is no null data present anymore, that means the dataset is cleaned and error free. Now the analysis can be done"
   ]
  },
  {
   "cell_type": "markdown",
   "metadata": {},
   "source": [
    "It seems that the above distribution graph is right skewed. The tail represents the outliers. Its seems there are many outliers. By box plot ve caan actually verify that."
   ]
  },
  {
   "cell_type": "markdown",
   "metadata": {},
   "source": [
    "Box plot not only gives the idea of outliers but also it tells the quantiles that is the range in which the data is more densly located.\n",
    "* It gives the 25%, 50%, 75%.\n",
    "* Where 50% depicts the median. \n",
    "* 25% and 75% are the lower and upper ranges in which maximum data is located.\n",
    "* Two line give the range of entire data.\n",
    "* points outside the data range are the outliers that in inappropriate data."
   ]
  },
  {
   "cell_type": "code",
   "execution_count": null,
   "metadata": {
    "scrolled": true
   },
   "outputs": [
    {
     "data": {
      "text/plain": [
       "<matplotlib.axes._subplots.AxesSubplot at 0xed4bf9b38>"
      ]
     },
     "execution_count": 676,
     "metadata": {},
     "output_type": "execute_result"
    },
    {
     "data": {
      "image/png": "[encoded data removed]",
      "text/plain": [
       "<Figure size 432x288 with 1 Axes>"
      ]
     },
     "metadata": {
      "needs_background": "light"
     },
     "output_type": "display_data"
    }
   ],
   "source": [
    "sns.boxplot(np.array(df['creatinine']))"
   ]
  },
  {
   "cell_type": "code",
   "execution_count": null,
   "metadata": {},
   "outputs": [
    {
     "data": {
      "text/plain": [
       "count    7874.000000\n",
       "mean        1.077483\n",
       "std         0.380754\n",
       "min         0.400000\n",
       "25%         0.900000\n",
       "50%         1.000000\n",
       "75%         1.100000\n",
       "max        10.800000\n",
       "Name: creatinine, dtype: float64"
      ]
     },
     "execution_count": 677,
     "metadata": {},
     "output_type": "execute_result"
    }
   ],
   "source": [
    "df['creatinine'].describe()"
   ]
  },
  {
   "cell_type": "markdown",
   "metadata": {},
   "source": [
    "**Why data cleaning is Required?** \n",
    "\n",
    "It can be seen that there is a small fluctuation in the mean and std before data cleaning and after data cleaning but the percentiles remain unaffected this is because the data is replaced with medianso the range of data will be same. Thus if there is large amount of data missing then the fluctuation might be more and the analysis and predictions will not be accurate."
   ]
  },
  {
   "cell_type": "markdown",
   "metadata": {},
   "source": [
    "# Relationship\n"
   ]
  },
  {
   "cell_type": "markdown",
   "metadata": {},
   "source": [
    "By using the correlation, relationship is determined between each parameter through the correlation matrix.\n",
    "Correlation means how strongly 2 parameters are related and also it can help in predicting one quantity from another. Below function calculates the correlation coefficient pairwise. These values always lies in betwwn -1 to + 1 if is negavitethe the relation is inversely related that is if one increases other decrease.\n",
    "\n",
    "* +1 is perfect linear relationship\n",
    "* -1 is perfect inverse or negative linear relationship\n"
   ]
  },
  {
   "cell_type": "code",
   "execution_count": null,
   "metadata": {},
   "outputs": [
    {
     "data": {
      "text/plain": [
       "age             int64\n",
       "sex            object\n",
       "sample.yr       int64\n",
       "kappa         float64\n",
       "lambda        float64\n",
       "flc.grp         int64\n",
       "creatinine    float64\n",
       "mgus            int64\n",
       "futime          int64\n",
       "death           int64\n",
       "chapter        object\n",
       "dtype: object"
      ]
     },
     "execution_count": 678,
     "metadata": {},
     "output_type": "execute_result"
    }
   ],
   "source": [
    "df.dtypes"
   ]
  },
  {
   "cell_type": "markdown",
   "metadata": {},
   "source": [
    "A small portion with parameters having good correlation with creatinine is taken out for analyzing properly"
   ]
  },
  {
   "cell_type": "markdown",
   "metadata": {},
   "source": [
    "The below code is used to convert the Categories with object data type to categories having int data type"
   ]
  },
  {
   "cell_type": "code",
   "execution_count": null,
   "metadata": {},
   "outputs": [
    {
     "data": {
      "text/html": [
       "<div>\n",
       "<style scoped>\n",
       "    .dataframe tbody tr th:only-of-type {\n",
       "        vertical-align: middle;\n",
       "    }\n",
       "\n",
       "    .dataframe tbody tr th {\n",
       "        vertical-align: top;\n",
       "    }\n",
       "\n",
       "    .dataframe thead th {\n",
       "        text-align: right;\n",
       "    }\n",
       "</style>\n",
       "<table border=\"1\" class=\"dataframe\">\n",
       "  <thead>\n",
       "    <tr style=\"text-align: right;\">\n",
       "      <th></th>\n",
       "      <th>age</th>\n",
       "      <th>sample.yr</th>\n",
       "      <th>kappa</th>\n",
       "      <th>lambda</th>\n",
       "      <th>flc.grp</th>\n",
       "      <th>creatinine</th>\n",
       "      <th>mgus</th>\n",
       "      <th>futime</th>\n",
       "      <th>death</th>\n",
       "      <th>chapter</th>\n",
       "      <th>sex_F</th>\n",
       "      <th>sex_M</th>\n",
       "    </tr>\n",
       "  </thead>\n",
       "  <tbody>\n",
       "    <tr>\n",
       "      <th>0</th>\n",
       "      <td>97</td>\n",
       "      <td>1997</td>\n",
       "      <td>5.70</td>\n",
       "      <td>4.860</td>\n",
       "      <td>10</td>\n",
       "      <td>1.7</td>\n",
       "      <td>0</td>\n",
       "      <td>85</td>\n",
       "      <td>1</td>\n",
       "      <td>Circulatory</td>\n",
       "      <td>1</td>\n",
       "      <td>0</td>\n",
       "    </tr>\n",
       "    <tr>\n",
       "      <th>1</th>\n",
       "      <td>92</td>\n",
       "      <td>2000</td>\n",
       "      <td>0.87</td>\n",
       "      <td>0.683</td>\n",
       "      <td>1</td>\n",
       "      <td>0.9</td>\n",
       "      <td>0</td>\n",
       "      <td>1281</td>\n",
       "      <td>1</td>\n",
       "      <td>Neoplasms</td>\n",
       "      <td>1</td>\n",
       "      <td>0</td>\n",
       "    </tr>\n",
       "    <tr>\n",
       "      <th>2</th>\n",
       "      <td>94</td>\n",
       "      <td>1997</td>\n",
       "      <td>4.36</td>\n",
       "      <td>3.850</td>\n",
       "      <td>10</td>\n",
       "      <td>1.4</td>\n",
       "      <td>0</td>\n",
       "      <td>69</td>\n",
       "      <td>1</td>\n",
       "      <td>Circulatory</td>\n",
       "      <td>1</td>\n",
       "      <td>0</td>\n",
       "    </tr>\n",
       "    <tr>\n",
       "      <th>3</th>\n",
       "      <td>92</td>\n",
       "      <td>1996</td>\n",
       "      <td>2.42</td>\n",
       "      <td>2.220</td>\n",
       "      <td>9</td>\n",
       "      <td>1.0</td>\n",
       "      <td>0</td>\n",
       "      <td>115</td>\n",
       "      <td>1</td>\n",
       "      <td>Circulatory</td>\n",
       "      <td>1</td>\n",
       "      <td>0</td>\n",
       "    </tr>\n",
       "    <tr>\n",
       "      <th>4</th>\n",
       "      <td>93</td>\n",
       "      <td>1996</td>\n",
       "      <td>1.32</td>\n",
       "      <td>1.690</td>\n",
       "      <td>6</td>\n",
       "      <td>1.1</td>\n",
       "      <td>0</td>\n",
       "      <td>1039</td>\n",
       "      <td>1</td>\n",
       "      <td>Circulatory</td>\n",
       "      <td>1</td>\n",
       "      <td>0</td>\n",
       "    </tr>\n",
       "  </tbody>\n",
       "</table>\n",
       "</div>"
      ],
      "text/plain": [
       "   age  sample.yr  kappa  lambda  flc.grp  creatinine  mgus  futime  death  \\\n",
       "0   97       1997   5.70   4.860       10         1.7     0      85      1   \n",
       "1   92       2000   0.87   0.683        1         0.9     0    1281      1   \n",
       "2   94       1997   4.36   3.850       10         1.4     0      69      1   \n",
       "3   92       1996   2.42   2.220        9         1.0     0     115      1   \n",
       "4   93       1996   1.32   1.690        6         1.1     0    1039      1   \n",
       "\n",
       "       chapter  sex_F  sex_M  \n",
       "0  Circulatory      1      0  \n",
       "1    Neoplasms      1      0  \n",
       "2  Circulatory      1      0  \n",
       "3  Circulatory      1      0  \n",
       "4  Circulatory      1      0  "
      ]
     },
     "execution_count": 679,
     "metadata": {},
     "output_type": "execute_result"
    }
   ],
   "source": [
    "new_gender = df =  pd.get_dummies(df, columns = ['sex'])\n",
    "df.head()"
   ]
  },
  {
   "cell_type": "code",
   "execution_count": null,
   "metadata": {},
   "outputs": [
    {
     "data": {
      "text/html": [
       "<div>\n",
       "<style scoped>\n",
       "    .dataframe tbody tr th:only-of-type {\n",
       "        vertical-align: middle;\n",
       "    }\n",
       "\n",
       "    .dataframe tbody tr th {\n",
       "        vertical-align: top;\n",
       "    }\n",
       "\n",
       "    .dataframe thead th {\n",
       "        text-align: right;\n",
       "    }\n",
       "</style>\n",
       "<table border=\"1\" class=\"dataframe\">\n",
       "  <thead>\n",
       "    <tr style=\"text-align: right;\">\n",
       "      <th></th>\n",
       "      <th>age</th>\n",
       "      <th>sample.yr</th>\n",
       "      <th>kappa</th>\n",
       "      <th>lambda</th>\n",
       "      <th>flc.grp</th>\n",
       "      <th>creatinine</th>\n",
       "      <th>mgus</th>\n",
       "      <th>futime</th>\n",
       "      <th>death</th>\n",
       "      <th>sex_F</th>\n",
       "      <th>...</th>\n",
       "      <th>chapter_Congenital</th>\n",
       "      <th>chapter_Digestive</th>\n",
       "      <th>chapter_Endocrine</th>\n",
       "      <th>chapter_Genitourinary</th>\n",
       "      <th>chapter_Mental</th>\n",
       "      <th>chapter_Musculoskeletal</th>\n",
       "      <th>chapter_Neoplasms</th>\n",
       "      <th>chapter_Nervous</th>\n",
       "      <th>chapter_No reason</th>\n",
       "      <th>chapter_Respiratory</th>\n",
       "    </tr>\n",
       "  </thead>\n",
       "  <tbody>\n",
       "    <tr>\n",
       "      <th>0</th>\n",
       "      <td>97</td>\n",
       "      <td>1997</td>\n",
       "      <td>5.70</td>\n",
       "      <td>4.860</td>\n",
       "      <td>10</td>\n",
       "      <td>1.7</td>\n",
       "      <td>0</td>\n",
       "      <td>85</td>\n",
       "      <td>1</td>\n",
       "      <td>1</td>\n",
       "      <td>...</td>\n",
       "      <td>0</td>\n",
       "      <td>0</td>\n",
       "      <td>0</td>\n",
       "      <td>0</td>\n",
       "      <td>0</td>\n",
       "      <td>0</td>\n",
       "      <td>0</td>\n",
       "      <td>0</td>\n",
       "      <td>0</td>\n",
       "      <td>0</td>\n",
       "    </tr>\n",
       "    <tr>\n",
       "      <th>1</th>\n",
       "      <td>92</td>\n",
       "      <td>2000</td>\n",
       "      <td>0.87</td>\n",
       "      <td>0.683</td>\n",
       "      <td>1</td>\n",
       "      <td>0.9</td>\n",
       "      <td>0</td>\n",
       "      <td>1281</td>\n",
       "      <td>1</td>\n",
       "      <td>1</td>\n",
       "      <td>...</td>\n",
       "      <td>0</td>\n",
       "      <td>0</td>\n",
       "      <td>0</td>\n",
       "      <td>0</td>\n",
       "      <td>0</td>\n",
       "      <td>0</td>\n",
       "      <td>1</td>\n",
       "      <td>0</td>\n",
       "      <td>0</td>\n",
       "      <td>0</td>\n",
       "    </tr>\n",
       "    <tr>\n",
       "      <th>2</th>\n",
       "      <td>94</td>\n",
       "      <td>1997</td>\n",
       "      <td>4.36</td>\n",
       "      <td>3.850</td>\n",
       "      <td>10</td>\n",
       "      <td>1.4</td>\n",
       "      <td>0</td>\n",
       "      <td>69</td>\n",
       "      <td>1</td>\n",
       "      <td>1</td>\n",
       "      <td>...</td>\n",
       "      <td>0</td>\n",
       "      <td>0</td>\n",
       "      <td>0</td>\n",
       "      <td>0</td>\n",
       "      <td>0</td>\n",
       "      <td>0</td>\n",
       "      <td>0</td>\n",
       "      <td>0</td>\n",
       "      <td>0</td>\n",
       "      <td>0</td>\n",
       "    </tr>\n",
       "    <tr>\n",
       "      <th>3</th>\n",
       "      <td>92</td>\n",
       "      <td>1996</td>\n",
       "      <td>2.42</td>\n",
       "      <td>2.220</td>\n",
       "      <td>9</td>\n",
       "      <td>1.0</td>\n",
       "      <td>0</td>\n",
       "      <td>115</td>\n",
       "      <td>1</td>\n",
       "      <td>1</td>\n",
       "      <td>...</td>\n",
       "      <td>0</td>\n",
       "      <td>0</td>\n",
       "      <td>0</td>\n",
       "      <td>0</td>\n",
       "      <td>0</td>\n",
       "      <td>0</td>\n",
       "      <td>0</td>\n",
       "      <td>0</td>\n",
       "      <td>0</td>\n",
       "      <td>0</td>\n",
       "    </tr>\n",
       "    <tr>\n",
       "      <th>4</th>\n",
       "      <td>93</td>\n",
       "      <td>1996</td>\n",
       "      <td>1.32</td>\n",
       "      <td>1.690</td>\n",
       "      <td>6</td>\n",
       "      <td>1.1</td>\n",
       "      <td>0</td>\n",
       "      <td>1039</td>\n",
       "      <td>1</td>\n",
       "      <td>1</td>\n",
       "      <td>...</td>\n",
       "      <td>0</td>\n",
       "      <td>0</td>\n",
       "      <td>0</td>\n",
       "      <td>0</td>\n",
       "      <td>0</td>\n",
       "      <td>0</td>\n",
       "      <td>0</td>\n",
       "      <td>0</td>\n",
       "      <td>0</td>\n",
       "      <td>0</td>\n",
       "    </tr>\n",
       "  </tbody>\n",
       "</table>\n",
       "<p>5 rows × 22 columns</p>\n",
       "</div>"
      ],
      "text/plain": [
       "   age  sample.yr  kappa  lambda  flc.grp  creatinine  mgus  futime  death  \\\n",
       "0   97       1997   5.70   4.860       10         1.7     0      85      1   \n",
       "1   92       2000   0.87   0.683        1         0.9     0    1281      1   \n",
       "2   94       1997   4.36   3.850       10         1.4     0      69      1   \n",
       "3   92       1996   2.42   2.220        9         1.0     0     115      1   \n",
       "4   93       1996   1.32   1.690        6         1.1     0    1039      1   \n",
       "\n",
       "   sex_F         ...           chapter_Congenital  chapter_Digestive  \\\n",
       "0      1         ...                            0                  0   \n",
       "1      1         ...                            0                  0   \n",
       "2      1         ...                            0                  0   \n",
       "3      1         ...                            0                  0   \n",
       "4      1         ...                            0                  0   \n",
       "\n",
       "   chapter_Endocrine  chapter_Genitourinary  chapter_Mental  \\\n",
       "0                  0                      0               0   \n",
       "1                  0                      0               0   \n",
       "2                  0                      0               0   \n",
       "3                  0                      0               0   \n",
       "4                  0                      0               0   \n",
       "\n",
       "   chapter_Musculoskeletal  chapter_Neoplasms  chapter_Nervous  \\\n",
       "0                        0                  0                0   \n",
       "1                        0                  1                0   \n",
       "2                        0                  0                0   \n",
       "3                        0                  0                0   \n",
       "4                        0                  0                0   \n",
       "\n",
       "   chapter_No reason  chapter_Respiratory  \n",
       "0                  0                    0  \n",
       "1                  0                    0  \n",
       "2                  0                    0  \n",
       "3                  0                    0  \n",
       "4                  0                    0  \n",
       "\n",
       "[5 rows x 22 columns]"
      ]
     },
     "execution_count": 680,
     "metadata": {},
     "output_type": "execute_result"
    }
   ],
   "source": [
    "df = pd.get_dummies(df, columns = ['chapter'], drop_first = True)\n",
    "df.head()"
   ]
  },
  {
   "cell_type": "code",
   "execution_count": null,
   "metadata": {
    "scrolled": true
   },
   "outputs": [
    {
     "data": {
      "text/html": [
       "<div>\n",
       "<style scoped>\n",
       "    .dataframe tbody tr th:only-of-type {\n",
       "        vertical-align: middle;\n",
       "    }\n",
       "\n",
       "    .dataframe tbody tr th {\n",
       "        vertical-align: top;\n",
       "    }\n",
       "\n",
       "    .dataframe thead th {\n",
       "        text-align: right;\n",
       "    }\n",
       "</style>\n",
       "<table border=\"1\" class=\"dataframe\">\n",
       "  <thead>\n",
       "    <tr style=\"text-align: right;\">\n",
       "      <th></th>\n",
       "      <th>age</th>\n",
       "      <th>sample.yr</th>\n",
       "      <th>kappa</th>\n",
       "      <th>lambda</th>\n",
       "      <th>flc.grp</th>\n",
       "      <th>creatinine</th>\n",
       "      <th>mgus</th>\n",
       "      <th>futime</th>\n",
       "      <th>death</th>\n",
       "      <th>sex_F</th>\n",
       "      <th>...</th>\n",
       "      <th>chapter_Congenital</th>\n",
       "      <th>chapter_Digestive</th>\n",
       "      <th>chapter_Endocrine</th>\n",
       "      <th>chapter_Genitourinary</th>\n",
       "      <th>chapter_Mental</th>\n",
       "      <th>chapter_Musculoskeletal</th>\n",
       "      <th>chapter_Neoplasms</th>\n",
       "      <th>chapter_Nervous</th>\n",
       "      <th>chapter_No reason</th>\n",
       "      <th>chapter_Respiratory</th>\n",
       "    </tr>\n",
       "  </thead>\n",
       "  <tbody>\n",
       "    <tr>\n",
       "      <th>age</th>\n",
       "      <td>1.000000</td>\n",
       "      <td>-0.157524</td>\n",
       "      <td>0.283294</td>\n",
       "      <td>0.233290</td>\n",
       "      <td>0.311324</td>\n",
       "      <td>0.122624</td>\n",
       "      <td>-0.050059</td>\n",
       "      <td>-0.368679</td>\n",
       "      <td>0.535924</td>\n",
       "      <td>0.099823</td>\n",
       "      <td>...</td>\n",
       "      <td>0.003185</td>\n",
       "      <td>0.114891</td>\n",
       "      <td>0.113443</td>\n",
       "      <td>0.115259</td>\n",
       "      <td>0.203733</td>\n",
       "      <td>0.034547</td>\n",
       "      <td>0.113538</td>\n",
       "      <td>0.116974</td>\n",
       "      <td>-0.535924</td>\n",
       "      <td>0.155502</td>\n",
       "    </tr>\n",
       "    <tr>\n",
       "      <th>sample.yr</th>\n",
       "      <td>-0.157524</td>\n",
       "      <td>1.000000</td>\n",
       "      <td>0.076069</td>\n",
       "      <td>0.002739</td>\n",
       "      <td>0.072409</td>\n",
       "      <td>0.012173</td>\n",
       "      <td>-0.010164</td>\n",
       "      <td>-0.315571</td>\n",
       "      <td>-0.121811</td>\n",
       "      <td>-0.037205</td>\n",
       "      <td>...</td>\n",
       "      <td>-0.008747</td>\n",
       "      <td>-0.012130</td>\n",
       "      <td>-0.031571</td>\n",
       "      <td>-0.012008</td>\n",
       "      <td>-0.006379</td>\n",
       "      <td>0.008417</td>\n",
       "      <td>-0.048822</td>\n",
       "      <td>-0.023043</td>\n",
       "      <td>0.121811</td>\n",
       "      <td>-0.035951</td>\n",
       "    </tr>\n",
       "    <tr>\n",
       "      <th>kappa</th>\n",
       "      <td>0.283294</td>\n",
       "      <td>0.076069</td>\n",
       "      <td>1.000000</td>\n",
       "      <td>0.819552</td>\n",
       "      <td>0.703849</td>\n",
       "      <td>0.528563</td>\n",
       "      <td>-0.092823</td>\n",
       "      <td>-0.324305</td>\n",
       "      <td>0.284790</td>\n",
       "      <td>-0.079101</td>\n",
       "      <td>...</td>\n",
       "      <td>0.097590</td>\n",
       "      <td>0.074003</td>\n",
       "      <td>0.101175</td>\n",
       "      <td>0.047717</td>\n",
       "      <td>0.067208</td>\n",
       "      <td>0.045349</td>\n",
       "      <td>0.081836</td>\n",
       "      <td>0.022497</td>\n",
       "      <td>-0.284790</td>\n",
       "      <td>0.058024</td>\n",
       "    </tr>\n",
       "    <tr>\n",
       "      <th>lambda</th>\n",
       "      <td>0.233290</td>\n",
       "      <td>0.002739</td>\n",
       "      <td>0.819552</td>\n",
       "      <td>1.000000</td>\n",
       "      <td>0.653835</td>\n",
       "      <td>0.479769</td>\n",
       "      <td>-0.120773</td>\n",
       "      <td>-0.279041</td>\n",
       "      <td>0.256982</td>\n",
       "      <td>-0.061563</td>\n",
       "      <td>...</td>\n",
       "      <td>0.117202</td>\n",
       "      <td>0.067445</td>\n",
       "      <td>0.097388</td>\n",
       "      <td>0.048984</td>\n",
       "      <td>0.045958</td>\n",
       "      <td>0.035664</td>\n",
       "      <td>0.091061</td>\n",
       "      <td>0.004570</td>\n",
       "      <td>-0.256982</td>\n",
       "      <td>0.065918</td>\n",
       "    </tr>\n",
       "    <tr>\n",
       "      <th>flc.grp</th>\n",
       "      <td>0.311324</td>\n",
       "      <td>0.072409</td>\n",
       "      <td>0.703849</td>\n",
       "      <td>0.653835</td>\n",
       "      <td>1.000000</td>\n",
       "      <td>0.241661</td>\n",
       "      <td>-0.171253</td>\n",
       "      <td>-0.284912</td>\n",
       "      <td>0.279271</td>\n",
       "      <td>-0.084026</td>\n",
       "      <td>...</td>\n",
       "      <td>0.017250</td>\n",
       "      <td>0.064140</td>\n",
       "      <td>0.085239</td>\n",
       "      <td>0.057281</td>\n",
       "      <td>0.074573</td>\n",
       "      <td>0.017282</td>\n",
       "      <td>0.077088</td>\n",
       "      <td>0.036495</td>\n",
       "      <td>-0.279271</td>\n",
       "      <td>0.061503</td>\n",
       "    </tr>\n",
       "    <tr>\n",
       "      <th>creatinine</th>\n",
       "      <td>0.122624</td>\n",
       "      <td>0.012173</td>\n",
       "      <td>0.528563</td>\n",
       "      <td>0.479769</td>\n",
       "      <td>0.241661</td>\n",
       "      <td>1.000000</td>\n",
       "      <td>-0.031171</td>\n",
       "      <td>-0.177976</td>\n",
       "      <td>0.157650</td>\n",
       "      <td>-0.255759</td>\n",
       "      <td>...</td>\n",
       "      <td>0.156697</td>\n",
       "      <td>0.041028</td>\n",
       "      <td>0.038193</td>\n",
       "      <td>0.069783</td>\n",
       "      <td>0.000604</td>\n",
       "      <td>0.041294</td>\n",
       "      <td>0.036863</td>\n",
       "      <td>-0.008829</td>\n",
       "      <td>-0.157650</td>\n",
       "      <td>0.021165</td>\n",
       "    </tr>\n",
       "    <tr>\n",
       "      <th>mgus</th>\n",
       "      <td>-0.050059</td>\n",
       "      <td>-0.010164</td>\n",
       "      <td>-0.092823</td>\n",
       "      <td>-0.120773</td>\n",
       "      <td>-0.171253</td>\n",
       "      <td>-0.031171</td>\n",
       "      <td>1.000000</td>\n",
       "      <td>0.037677</td>\n",
       "      <td>-0.037152</td>\n",
       "      <td>0.009513</td>\n",
       "      <td>...</td>\n",
       "      <td>-0.002377</td>\n",
       "      <td>0.004461</td>\n",
       "      <td>-0.003003</td>\n",
       "      <td>-0.005255</td>\n",
       "      <td>-0.000815</td>\n",
       "      <td>-0.005138</td>\n",
       "      <td>-0.029818</td>\n",
       "      <td>-0.015774</td>\n",
       "      <td>0.037152</td>\n",
       "      <td>-0.003526</td>\n",
       "    </tr>\n",
       "    <tr>\n",
       "      <th>futime</th>\n",
       "      <td>-0.368679</td>\n",
       "      <td>-0.315571</td>\n",
       "      <td>-0.324305</td>\n",
       "      <td>-0.279041</td>\n",
       "      <td>-0.284912</td>\n",
       "      <td>-0.177976</td>\n",
       "      <td>0.037677</td>\n",
       "      <td>1.000000</td>\n",
       "      <td>-0.639805</td>\n",
       "      <td>0.027133</td>\n",
       "      <td>...</td>\n",
       "      <td>-0.020560</td>\n",
       "      <td>-0.099988</td>\n",
       "      <td>-0.126831</td>\n",
       "      <td>-0.110748</td>\n",
       "      <td>-0.112991</td>\n",
       "      <td>-0.036580</td>\n",
       "      <td>-0.319539</td>\n",
       "      <td>-0.093888</td>\n",
       "      <td>0.639805</td>\n",
       "      <td>-0.174324</td>\n",
       "    </tr>\n",
       "    <tr>\n",
       "      <th>death</th>\n",
       "      <td>0.535924</td>\n",
       "      <td>-0.121811</td>\n",
       "      <td>0.284790</td>\n",
       "      <td>0.256982</td>\n",
       "      <td>0.279271</td>\n",
       "      <td>0.157650</td>\n",
       "      <td>-0.037152</td>\n",
       "      <td>-0.639805</td>\n",
       "      <td>1.000000</td>\n",
       "      <td>-0.019019</td>\n",
       "      <td>...</td>\n",
       "      <td>0.031662</td>\n",
       "      <td>0.187631</td>\n",
       "      <td>0.173406</td>\n",
       "      <td>0.191254</td>\n",
       "      <td>0.221355</td>\n",
       "      <td>0.068446</td>\n",
       "      <td>0.451773</td>\n",
       "      <td>0.210130</td>\n",
       "      <td>-1.000000</td>\n",
       "      <td>0.290635</td>\n",
       "    </tr>\n",
       "    <tr>\n",
       "      <th>sex_F</th>\n",
       "      <td>0.099823</td>\n",
       "      <td>-0.037205</td>\n",
       "      <td>-0.079101</td>\n",
       "      <td>-0.061563</td>\n",
       "      <td>-0.084026</td>\n",
       "      <td>-0.255759</td>\n",
       "      <td>0.009513</td>\n",
       "      <td>0.027133</td>\n",
       "      <td>-0.019019</td>\n",
       "      <td>1.000000</td>\n",
       "      <td>...</td>\n",
       "      <td>-0.021691</td>\n",
       "      <td>0.010168</td>\n",
       "      <td>0.009258</td>\n",
       "      <td>-0.010243</td>\n",
       "      <td>0.038976</td>\n",
       "      <td>0.019798</td>\n",
       "      <td>-0.033830</td>\n",
       "      <td>0.002368</td>\n",
       "      <td>0.019019</td>\n",
       "      <td>-0.021110</td>\n",
       "    </tr>\n",
       "    <tr>\n",
       "      <th>sex_M</th>\n",
       "      <td>-0.099823</td>\n",
       "      <td>0.037205</td>\n",
       "      <td>0.079101</td>\n",
       "      <td>0.061563</td>\n",
       "      <td>0.084026</td>\n",
       "      <td>0.255759</td>\n",
       "      <td>-0.009513</td>\n",
       "      <td>-0.027133</td>\n",
       "      <td>0.019019</td>\n",
       "      <td>-1.000000</td>\n",
       "      <td>...</td>\n",
       "      <td>0.021691</td>\n",
       "      <td>-0.010168</td>\n",
       "      <td>-0.009258</td>\n",
       "      <td>0.010243</td>\n",
       "      <td>-0.038976</td>\n",
       "      <td>-0.019798</td>\n",
       "      <td>0.033830</td>\n",
       "      <td>-0.002368</td>\n",
       "      <td>-0.019019</td>\n",
       "      <td>0.021110</td>\n",
       "    </tr>\n",
       "    <tr>\n",
       "      <th>chapter_Circulatory</th>\n",
       "      <td>0.338811</td>\n",
       "      <td>-0.087135</td>\n",
       "      <td>0.188211</td>\n",
       "      <td>0.154090</td>\n",
       "      <td>0.186908</td>\n",
       "      <td>0.124447</td>\n",
       "      <td>-0.018324</td>\n",
       "      <td>-0.357635</td>\n",
       "      <td>0.530474</td>\n",
       "      <td>-0.009003</td>\n",
       "      <td>...</td>\n",
       "      <td>-0.006386</td>\n",
       "      <td>-0.037842</td>\n",
       "      <td>-0.034973</td>\n",
       "      <td>-0.038573</td>\n",
       "      <td>-0.044643</td>\n",
       "      <td>-0.013804</td>\n",
       "      <td>-0.091115</td>\n",
       "      <td>-0.042379</td>\n",
       "      <td>-0.530474</td>\n",
       "      <td>-0.058616</td>\n",
       "    </tr>\n",
       "    <tr>\n",
       "      <th>chapter_Congenital</th>\n",
       "      <td>0.003185</td>\n",
       "      <td>-0.008747</td>\n",
       "      <td>0.097590</td>\n",
       "      <td>0.117202</td>\n",
       "      <td>0.017250</td>\n",
       "      <td>0.156697</td>\n",
       "      <td>-0.002377</td>\n",
       "      <td>-0.020560</td>\n",
       "      <td>0.031662</td>\n",
       "      <td>-0.021691</td>\n",
       "      <td>...</td>\n",
       "      <td>1.000000</td>\n",
       "      <td>-0.002259</td>\n",
       "      <td>-0.002087</td>\n",
       "      <td>-0.002302</td>\n",
       "      <td>-0.002665</td>\n",
       "      <td>-0.000824</td>\n",
       "      <td>-0.005438</td>\n",
       "      <td>-0.002529</td>\n",
       "      <td>-0.031662</td>\n",
       "      <td>-0.003499</td>\n",
       "    </tr>\n",
       "    <tr>\n",
       "      <th>chapter_Digestive</th>\n",
       "      <td>0.114891</td>\n",
       "      <td>-0.012130</td>\n",
       "      <td>0.074003</td>\n",
       "      <td>0.067445</td>\n",
       "      <td>0.064140</td>\n",
       "      <td>0.041028</td>\n",
       "      <td>0.004461</td>\n",
       "      <td>-0.099988</td>\n",
       "      <td>0.187631</td>\n",
       "      <td>0.010168</td>\n",
       "      <td>...</td>\n",
       "      <td>-0.002259</td>\n",
       "      <td>1.000000</td>\n",
       "      <td>-0.012370</td>\n",
       "      <td>-0.013643</td>\n",
       "      <td>-0.015791</td>\n",
       "      <td>-0.004883</td>\n",
       "      <td>-0.032228</td>\n",
       "      <td>-0.014990</td>\n",
       "      <td>-0.187631</td>\n",
       "      <td>-0.020733</td>\n",
       "    </tr>\n",
       "    <tr>\n",
       "      <th>chapter_Endocrine</th>\n",
       "      <td>0.113443</td>\n",
       "      <td>-0.031571</td>\n",
       "      <td>0.101175</td>\n",
       "      <td>0.097388</td>\n",
       "      <td>0.085239</td>\n",
       "      <td>0.038193</td>\n",
       "      <td>-0.003003</td>\n",
       "      <td>-0.126831</td>\n",
       "      <td>0.173406</td>\n",
       "      <td>0.009258</td>\n",
       "      <td>...</td>\n",
       "      <td>-0.002087</td>\n",
       "      <td>-0.012370</td>\n",
       "      <td>1.000000</td>\n",
       "      <td>-0.012609</td>\n",
       "      <td>-0.014593</td>\n",
       "      <td>-0.004513</td>\n",
       "      <td>-0.029784</td>\n",
       "      <td>-0.013853</td>\n",
       "      <td>-0.173406</td>\n",
       "      <td>-0.019161</td>\n",
       "    </tr>\n",
       "    <tr>\n",
       "      <th>chapter_Genitourinary</th>\n",
       "      <td>0.115259</td>\n",
       "      <td>-0.012008</td>\n",
       "      <td>0.047717</td>\n",
       "      <td>0.048984</td>\n",
       "      <td>0.057281</td>\n",
       "      <td>0.069783</td>\n",
       "      <td>-0.005255</td>\n",
       "      <td>-0.110748</td>\n",
       "      <td>0.191254</td>\n",
       "      <td>-0.010243</td>\n",
       "      <td>...</td>\n",
       "      <td>-0.002302</td>\n",
       "      <td>-0.013643</td>\n",
       "      <td>-0.012609</td>\n",
       "      <td>1.000000</td>\n",
       "      <td>-0.016096</td>\n",
       "      <td>-0.004977</td>\n",
       "      <td>-0.032850</td>\n",
       "      <td>-0.015279</td>\n",
       "      <td>-0.191254</td>\n",
       "      <td>-0.021133</td>\n",
       "    </tr>\n",
       "    <tr>\n",
       "      <th>chapter_Mental</th>\n",
       "      <td>0.203733</td>\n",
       "      <td>-0.006379</td>\n",
       "      <td>0.067208</td>\n",
       "      <td>0.045958</td>\n",
       "      <td>0.074573</td>\n",
       "      <td>0.000604</td>\n",
       "      <td>-0.000815</td>\n",
       "      <td>-0.112991</td>\n",
       "      <td>0.221355</td>\n",
       "      <td>0.038976</td>\n",
       "      <td>...</td>\n",
       "      <td>-0.002665</td>\n",
       "      <td>-0.015791</td>\n",
       "      <td>-0.014593</td>\n",
       "      <td>-0.016096</td>\n",
       "      <td>1.000000</td>\n",
       "      <td>-0.005760</td>\n",
       "      <td>-0.038020</td>\n",
       "      <td>-0.017684</td>\n",
       "      <td>-0.221355</td>\n",
       "      <td>-0.024459</td>\n",
       "    </tr>\n",
       "    <tr>\n",
       "      <th>chapter_Musculoskeletal</th>\n",
       "      <td>0.034547</td>\n",
       "      <td>0.008417</td>\n",
       "      <td>0.045349</td>\n",
       "      <td>0.035664</td>\n",
       "      <td>0.017282</td>\n",
       "      <td>0.041294</td>\n",
       "      <td>-0.005138</td>\n",
       "      <td>-0.036580</td>\n",
       "      <td>0.068446</td>\n",
       "      <td>0.019798</td>\n",
       "      <td>...</td>\n",
       "      <td>-0.000824</td>\n",
       "      <td>-0.004883</td>\n",
       "      <td>-0.004513</td>\n",
       "      <td>-0.004977</td>\n",
       "      <td>-0.005760</td>\n",
       "      <td>1.000000</td>\n",
       "      <td>-0.011756</td>\n",
       "      <td>-0.005468</td>\n",
       "      <td>-0.068446</td>\n",
       "      <td>-0.007563</td>\n",
       "    </tr>\n",
       "    <tr>\n",
       "      <th>chapter_Neoplasms</th>\n",
       "      <td>0.113538</td>\n",
       "      <td>-0.048822</td>\n",
       "      <td>0.081836</td>\n",
       "      <td>0.091061</td>\n",
       "      <td>0.077088</td>\n",
       "      <td>0.036863</td>\n",
       "      <td>-0.029818</td>\n",
       "      <td>-0.319539</td>\n",
       "      <td>0.451773</td>\n",
       "      <td>-0.033830</td>\n",
       "      <td>...</td>\n",
       "      <td>-0.005438</td>\n",
       "      <td>-0.032228</td>\n",
       "      <td>-0.029784</td>\n",
       "      <td>-0.032850</td>\n",
       "      <td>-0.038020</td>\n",
       "      <td>-0.011756</td>\n",
       "      <td>1.000000</td>\n",
       "      <td>-0.036092</td>\n",
       "      <td>-0.451773</td>\n",
       "      <td>-0.049920</td>\n",
       "    </tr>\n",
       "    <tr>\n",
       "      <th>chapter_Nervous</th>\n",
       "      <td>0.116974</td>\n",
       "      <td>-0.023043</td>\n",
       "      <td>0.022497</td>\n",
       "      <td>0.004570</td>\n",
       "      <td>0.036495</td>\n",
       "      <td>-0.008829</td>\n",
       "      <td>-0.015774</td>\n",
       "      <td>-0.093888</td>\n",
       "      <td>0.210130</td>\n",
       "      <td>0.002368</td>\n",
       "      <td>...</td>\n",
       "      <td>-0.002529</td>\n",
       "      <td>-0.014990</td>\n",
       "      <td>-0.013853</td>\n",
       "      <td>-0.015279</td>\n",
       "      <td>-0.017684</td>\n",
       "      <td>-0.005468</td>\n",
       "      <td>-0.036092</td>\n",
       "      <td>1.000000</td>\n",
       "      <td>-0.210130</td>\n",
       "      <td>-0.023219</td>\n",
       "    </tr>\n",
       "    <tr>\n",
       "      <th>chapter_No reason</th>\n",
       "      <td>-0.535924</td>\n",
       "      <td>0.121811</td>\n",
       "      <td>-0.284790</td>\n",
       "      <td>-0.256982</td>\n",
       "      <td>-0.279271</td>\n",
       "      <td>-0.157650</td>\n",
       "      <td>0.037152</td>\n",
       "      <td>0.639805</td>\n",
       "      <td>-1.000000</td>\n",
       "      <td>0.019019</td>\n",
       "      <td>...</td>\n",
       "      <td>-0.031662</td>\n",
       "      <td>-0.187631</td>\n",
       "      <td>-0.173406</td>\n",
       "      <td>-0.191254</td>\n",
       "      <td>-0.221355</td>\n",
       "      <td>-0.068446</td>\n",
       "      <td>-0.451773</td>\n",
       "      <td>-0.210130</td>\n",
       "      <td>1.000000</td>\n",
       "      <td>-0.290635</td>\n",
       "    </tr>\n",
       "    <tr>\n",
       "      <th>chapter_Respiratory</th>\n",
       "      <td>0.155502</td>\n",
       "      <td>-0.035951</td>\n",
       "      <td>0.058024</td>\n",
       "      <td>0.065918</td>\n",
       "      <td>0.061503</td>\n",
       "      <td>0.021165</td>\n",
       "      <td>-0.003526</td>\n",
       "      <td>-0.174324</td>\n",
       "      <td>0.290635</td>\n",
       "      <td>-0.021110</td>\n",
       "      <td>...</td>\n",
       "      <td>-0.003499</td>\n",
       "      <td>-0.020733</td>\n",
       "      <td>-0.019161</td>\n",
       "      <td>-0.021133</td>\n",
       "      <td>-0.024459</td>\n",
       "      <td>-0.007563</td>\n",
       "      <td>-0.049920</td>\n",
       "      <td>-0.023219</td>\n",
       "      <td>-0.290635</td>\n",
       "      <td>1.000000</td>\n",
       "    </tr>\n",
       "  </tbody>\n",
       "</table>\n",
       "<p>22 rows × 22 columns</p>\n",
       "</div>"
      ],
      "text/plain": [
       "                              age  sample.yr     kappa    lambda   flc.grp  \\\n",
       "age                      1.000000  -0.157524  0.283294  0.233290  0.311324   \n",
       "sample.yr               -0.157524   1.000000  0.076069  0.002739  0.072409   \n",
       "kappa                    0.283294   0.076069  1.000000  0.819552  0.703849   \n",
       "lambda                   0.233290   0.002739  0.819552  1.000000  0.653835   \n",
       "flc.grp                  0.311324   0.072409  0.703849  0.653835  1.000000   \n",
       "creatinine               0.122624   0.012173  0.528563  0.479769  0.241661   \n",
       "mgus                    -0.050059  -0.010164 -0.092823 -0.120773 -0.171253   \n",
       "futime                  -0.368679  -0.315571 -0.324305 -0.279041 -0.284912   \n",
       "death                    0.535924  -0.121811  0.284790  0.256982  0.279271   \n",
       "sex_F                    0.099823  -0.037205 -0.079101 -0.061563 -0.084026   \n",
       "sex_M                   -0.099823   0.037205  0.079101  0.061563  0.084026   \n",
       "chapter_Circulatory      0.338811  -0.087135  0.188211  0.154090  0.186908   \n",
       "chapter_Congenital       0.003185  -0.008747  0.097590  0.117202  0.017250   \n",
       "chapter_Digestive        0.114891  -0.012130  0.074003  0.067445  0.064140   \n",
       "chapter_Endocrine        0.113443  -0.031571  0.101175  0.097388  0.085239   \n",
       "chapter_Genitourinary    0.115259  -0.012008  0.047717  0.048984  0.057281   \n",
       "chapter_Mental           0.203733  -0.006379  0.067208  0.045958  0.074573   \n",
       "chapter_Musculoskeletal  0.034547   0.008417  0.045349  0.035664  0.017282   \n",
       "chapter_Neoplasms        0.113538  -0.048822  0.081836  0.091061  0.077088   \n",
       "chapter_Nervous          0.116974  -0.023043  0.022497  0.004570  0.036495   \n",
       "chapter_No reason       -0.535924   0.121811 -0.284790 -0.256982 -0.279271   \n",
       "chapter_Respiratory      0.155502  -0.035951  0.058024  0.065918  0.061503   \n",
       "\n",
       "                         creatinine      mgus    futime     death     sex_F  \\\n",
       "age                        0.122624 -0.050059 -0.368679  0.535924  0.099823   \n",
       "sample.yr                  0.012173 -0.010164 -0.315571 -0.121811 -0.037205   \n",
       "kappa                      0.528563 -0.092823 -0.324305  0.284790 -0.079101   \n",
       "lambda                     0.479769 -0.120773 -0.279041  0.256982 -0.061563   \n",
       "flc.grp                    0.241661 -0.171253 -0.284912  0.279271 -0.084026   \n",
       "creatinine                 1.000000 -0.031171 -0.177976  0.157650 -0.255759   \n",
       "mgus                      -0.031171  1.000000  0.037677 -0.037152  0.009513   \n",
       "futime                    -0.177976  0.037677  1.000000 -0.639805  0.027133   \n",
       "death                      0.157650 -0.037152 -0.639805  1.000000 -0.019019   \n",
       "sex_F                     -0.255759  0.009513  0.027133 -0.019019  1.000000   \n",
       "sex_M                      0.255759 -0.009513 -0.027133  0.019019 -1.000000   \n",
       "chapter_Circulatory        0.124447 -0.018324 -0.357635  0.530474 -0.009003   \n",
       "chapter_Congenital         0.156697 -0.002377 -0.020560  0.031662 -0.021691   \n",
       "chapter_Digestive          0.041028  0.004461 -0.099988  0.187631  0.010168   \n",
       "chapter_Endocrine          0.038193 -0.003003 -0.126831  0.173406  0.009258   \n",
       "chapter_Genitourinary      0.069783 -0.005255 -0.110748  0.191254 -0.010243   \n",
       "chapter_Mental             0.000604 -0.000815 -0.112991  0.221355  0.038976   \n",
       "chapter_Musculoskeletal    0.041294 -0.005138 -0.036580  0.068446  0.019798   \n",
       "chapter_Neoplasms          0.036863 -0.029818 -0.319539  0.451773 -0.033830   \n",
       "chapter_Nervous           -0.008829 -0.015774 -0.093888  0.210130  0.002368   \n",
       "chapter_No reason         -0.157650  0.037152  0.639805 -1.000000  0.019019   \n",
       "chapter_Respiratory        0.021165 -0.003526 -0.174324  0.290635 -0.021110   \n",
       "\n",
       "                                ...           chapter_Congenital  \\\n",
       "age                             ...                     0.003185   \n",
       "sample.yr                       ...                    -0.008747   \n",
       "kappa                           ...                     0.097590   \n",
       "lambda                          ...                     0.117202   \n",
       "flc.grp                         ...                     0.017250   \n",
       "creatinine                      ...                     0.156697   \n",
       "mgus                            ...                    -0.002377   \n",
       "futime                          ...                    -0.020560   \n",
       "death                           ...                     0.031662   \n",
       "sex_F                           ...                    -0.021691   \n",
       "sex_M                           ...                     0.021691   \n",
       "chapter_Circulatory             ...                    -0.006386   \n",
       "chapter_Congenital              ...                     1.000000   \n",
       "chapter_Digestive               ...                    -0.002259   \n",
       "chapter_Endocrine               ...                    -0.002087   \n",
       "chapter_Genitourinary           ...                    -0.002302   \n",
       "chapter_Mental                  ...                    -0.002665   \n",
       "chapter_Musculoskeletal         ...                    -0.000824   \n",
       "chapter_Neoplasms               ...                    -0.005438   \n",
       "chapter_Nervous                 ...                    -0.002529   \n",
       "chapter_No reason               ...                    -0.031662   \n",
       "chapter_Respiratory             ...                    -0.003499   \n",
       "\n",
       "                         chapter_Digestive  chapter_Endocrine  \\\n",
       "age                               0.114891           0.113443   \n",
       "sample.yr                        -0.012130          -0.031571   \n",
       "kappa                             0.074003           0.101175   \n",
       "lambda                            0.067445           0.097388   \n",
       "flc.grp                           0.064140           0.085239   \n",
       "creatinine                        0.041028           0.038193   \n",
       "mgus                              0.004461          -0.003003   \n",
       "futime                           -0.099988          -0.126831   \n",
       "death                             0.187631           0.173406   \n",
       "sex_F                             0.010168           0.009258   \n",
       "sex_M                            -0.010168          -0.009258   \n",
       "chapter_Circulatory              -0.037842          -0.034973   \n",
       "chapter_Congenital               -0.002259          -0.002087   \n",
       "chapter_Digestive                 1.000000          -0.012370   \n",
       "chapter_Endocrine                -0.012370           1.000000   \n",
       "chapter_Genitourinary            -0.013643          -0.012609   \n",
       "chapter_Mental                   -0.015791          -0.014593   \n",
       "chapter_Musculoskeletal          -0.004883          -0.004513   \n",
       "chapter_Neoplasms                -0.032228          -0.029784   \n",
       "chapter_Nervous                  -0.014990          -0.013853   \n",
       "chapter_No reason                -0.187631          -0.173406   \n",
       "chapter_Respiratory              -0.020733          -0.019161   \n",
       "\n",
       "                         chapter_Genitourinary  chapter_Mental  \\\n",
       "age                                   0.115259        0.203733   \n",
       "sample.yr                            -0.012008       -0.006379   \n",
       "kappa                                 0.047717        0.067208   \n",
       "lambda                                0.048984        0.045958   \n",
       "flc.grp                               0.057281        0.074573   \n",
       "creatinine                            0.069783        0.000604   \n",
       "mgus                                 -0.005255       -0.000815   \n",
       "futime                               -0.110748       -0.112991   \n",
       "death                                 0.191254        0.221355   \n",
       "sex_F                                -0.010243        0.038976   \n",
       "sex_M                                 0.010243       -0.038976   \n",
       "chapter_Circulatory                  -0.038573       -0.044643   \n",
       "chapter_Congenital                   -0.002302       -0.002665   \n",
       "chapter_Digestive                    -0.013643       -0.015791   \n",
       "chapter_Endocrine                    -0.012609       -0.014593   \n",
       "chapter_Genitourinary                 1.000000       -0.016096   \n",
       "chapter_Mental                       -0.016096        1.000000   \n",
       "chapter_Musculoskeletal              -0.004977       -0.005760   \n",
       "chapter_Neoplasms                    -0.032850       -0.038020   \n",
       "chapter_Nervous                      -0.015279       -0.017684   \n",
       "chapter_No reason                    -0.191254       -0.221355   \n",
       "chapter_Respiratory                  -0.021133       -0.024459   \n",
       "\n",
       "                         chapter_Musculoskeletal  chapter_Neoplasms  \\\n",
       "age                                     0.034547           0.113538   \n",
       "sample.yr                               0.008417          -0.048822   \n",
       "kappa                                   0.045349           0.081836   \n",
       "lambda                                  0.035664           0.091061   \n",
       "flc.grp                                 0.017282           0.077088   \n",
       "creatinine                              0.041294           0.036863   \n",
       "mgus                                   -0.005138          -0.029818   \n",
       "futime                                 -0.036580          -0.319539   \n",
       "death                                   0.068446           0.451773   \n",
       "sex_F                                   0.019798          -0.033830   \n",
       "sex_M                                  -0.019798           0.033830   \n",
       "chapter_Circulatory                    -0.013804          -0.091115   \n",
       "chapter_Congenital                     -0.000824          -0.005438   \n",
       "chapter_Digestive                      -0.004883          -0.032228   \n",
       "chapter_Endocrine                      -0.004513          -0.029784   \n",
       "chapter_Genitourinary                  -0.004977          -0.032850   \n",
       "chapter_Mental                         -0.005760          -0.038020   \n",
       "chapter_Musculoskeletal                 1.000000          -0.011756   \n",
       "chapter_Neoplasms                      -0.011756           1.000000   \n",
       "chapter_Nervous                        -0.005468          -0.036092   \n",
       "chapter_No reason                      -0.068446          -0.451773   \n",
       "chapter_Respiratory                    -0.007563          -0.049920   \n",
       "\n",
       "                         chapter_Nervous  chapter_No reason  \\\n",
       "age                             0.116974          -0.535924   \n",
       "sample.yr                      -0.023043           0.121811   \n",
       "kappa                           0.022497          -0.284790   \n",
       "lambda                          0.004570          -0.256982   \n",
       "flc.grp                         0.036495          -0.279271   \n",
       "creatinine                     -0.008829          -0.157650   \n",
       "mgus                           -0.015774           0.037152   \n",
       "futime                         -0.093888           0.639805   \n",
       "death                           0.210130          -1.000000   \n",
       "sex_F                           0.002368           0.019019   \n",
       "sex_M                          -0.002368          -0.019019   \n",
       "chapter_Circulatory            -0.042379          -0.530474   \n",
       "chapter_Congenital             -0.002529          -0.031662   \n",
       "chapter_Digestive              -0.014990          -0.187631   \n",
       "chapter_Endocrine              -0.013853          -0.173406   \n",
       "chapter_Genitourinary          -0.015279          -0.191254   \n",
       "chapter_Mental                 -0.017684          -0.221355   \n",
       "chapter_Musculoskeletal        -0.005468          -0.068446   \n",
       "chapter_Neoplasms              -0.036092          -0.451773   \n",
       "chapter_Nervous                 1.000000          -0.210130   \n",
       "chapter_No reason              -0.210130           1.000000   \n",
       "chapter_Respiratory            -0.023219          -0.290635   \n",
       "\n",
       "                         chapter_Respiratory  \n",
       "age                                 0.155502  \n",
       "sample.yr                          -0.035951  \n",
       "kappa                               0.058024  \n",
       "lambda                              0.065918  \n",
       "flc.grp                             0.061503  \n",
       "creatinine                          0.021165  \n",
       "mgus                               -0.003526  \n",
       "futime                             -0.174324  \n",
       "death                               0.290635  \n",
       "sex_F                              -0.021110  \n",
       "sex_M                               0.021110  \n",
       "chapter_Circulatory                -0.058616  \n",
       "chapter_Congenital                 -0.003499  \n",
       "chapter_Digestive                  -0.020733  \n",
       "chapter_Endocrine                  -0.019161  \n",
       "chapter_Genitourinary              -0.021133  \n",
       "chapter_Mental                     -0.024459  \n",
       "chapter_Musculoskeletal            -0.007563  \n",
       "chapter_Neoplasms                  -0.049920  \n",
       "chapter_Nervous                    -0.023219  \n",
       "chapter_No reason                  -0.290635  \n",
       "chapter_Respiratory                 1.000000  \n",
       "\n",
       "[22 rows x 22 columns]"
      ]
     },
     "execution_count": 681,
     "metadata": {},
     "output_type": "execute_result"
    }
   ],
   "source": [
    "df.corr()\n"
   ]
  },
  {
   "cell_type": "markdown",
   "metadata": {},
   "source": [
    "Heat map is the example of data visualization, it gives better idea of the relationship between parameters by using a range of colours"
   ]
  },
  {
   "cell_type": "code",
   "execution_count": null,
   "metadata": {},
   "outputs": [
    {
     "data": {
      "image/png": "[encoded data removed]",
      "text/plain": [
       "<Figure size 2160x2160 with 2 Axes>"
      ]
     },
     "metadata": {
      "needs_background": "light"
     },
     "output_type": "display_data"
    }
   ],
   "source": [
    "plt.figure(figsize=(30,30))\n",
    "sns.heatmap(data=df.corr(), fmt = '.2f', annot=True, cmap=\"coolwarm\")\n",
    "plt.show()"
   ]
  },
  {
   "cell_type": "code",
   "execution_count": null,
   "metadata": {},
   "outputs": [
    {
     "data": {
      "text/plain": [
       "Index(['age', 'sample.yr', 'kappa', 'lambda', 'flc.grp', 'creatinine', 'mgus',\n",
       "       'futime', 'death', 'sex_F', 'sex_M', 'chapter_Circulatory',\n",
       "       'chapter_Congenital', 'chapter_Digestive', 'chapter_Endocrine',\n",
       "       'chapter_Genitourinary', 'chapter_Mental', 'chapter_Musculoskeletal',\n",
       "       'chapter_Neoplasms', 'chapter_Nervous', 'chapter_No reason',\n",
       "       'chapter_Respiratory'],\n",
       "      dtype='object')"
      ]
     },
     "execution_count": 683,
     "metadata": {},
     "output_type": "execute_result"
    }
   ],
   "source": [
    "df.columns"
   ]
  },
  {
   "cell_type": "code",
   "execution_count": null,
   "metadata": {},
   "outputs": [
    {
     "data": {
      "image/png": "[encoded data removed]",
      "text/plain": [
       "<Figure size 864x576 with 2 Axes>"
      ]
     },
     "metadata": {
      "needs_background": "light"
     },
     "output_type": "display_data"
    }
   ],
   "source": [
    "# correlation heat map of creatinine depending on the correlation\n",
    "data=df[['age', 'kappa', 'lambda', 'flc.grp', 'creatinine',\n",
    "        'futime', 'death', 'chapter_Circulatory', 'chapter_Congenital']]\n",
    "plt.figure(figsize=(12,8))\n",
    "sns.heatmap(data.corr(), fmt = '.2f', annot=True, cmap=\"coolwarm\")\n",
    "plt.show()"
   ]
  },
  {
   "cell_type": "code",
   "execution_count": null,
   "metadata": {},
   "outputs": [
    {
     "name": "stderr",
     "output_type": "stream",
     "text": [
      "C:\\Users\\hp\\Anaconda3\\lib\\site-packages\\numpy\\core\\_methods.py:140: RuntimeWarning: Degrees of freedom <= 0 for slice\n",
      "  keepdims=keepdims)\n",
      "C:\\Users\\hp\\Anaconda3\\lib\\site-packages\\numpy\\core\\_methods.py:132: RuntimeWarning: invalid value encountered in double_scalars\n",
      "  ret = ret.dtype.type(ret / rcount)\n",
      "C:\\Users\\hp\\Anaconda3\\lib\\site-packages\\statsmodels\\nonparametric\\bandwidths.py:20: RuntimeWarning: invalid value encountered in minimum\n",
      "  return np.minimum(np.std(X, axis=0, ddof=1), IQR)\n",
      "C:\\Users\\hp\\Anaconda3\\lib\\site-packages\\numpy\\core\\fromnumeric.py:83: RuntimeWarning: invalid value encountered in reduce\n",
      "  return ufunc.reduce(obj, axis, dtype, out, **passkwargs)\n",
      "C:\\Users\\hp\\Anaconda3\\lib\\site-packages\\statsmodels\\nonparametric\\kde.py:488: RuntimeWarning: invalid value encountered in true_divide\n",
      "  binned = fast_linbin(X, a, b, gridsize) / (delta * nobs)\n",
      "C:\\Users\\hp\\Anaconda3\\lib\\site-packages\\statsmodels\\nonparametric\\kdetools.py:34: RuntimeWarning: invalid value encountered in double_scalars\n",
      "  FAC1 = 2*(np.pi*bw/RANGE)**2\n"
     ]
    }
   ],
   "source": [
    "x = df[['age', 'kappa', 'lambda', 'flc.grp', 'creatinine','mgus','futime', 'death', 'chapter_Circulatory', 'chapter_Congenital']]\n",
    "plt.figure(figsize=(15,10))\n",
    "sns.pairplot(x, kind = 'reg', )"
   ]
  },
  {
   "cell_type": "markdown",
   "metadata": {},
   "source": [
    "# Linear Regression"
   ]
  },
  {
   "attachments": {
    "image.png": {
     "image/png": "[encoded data removed]"
    }
   },
   "cell_type": "markdown",
   "metadata": {},
   "source": [
    "Generally regression stand for relationship so Linear Regression is the linear relationship between 2 parameters, that means:\n",
    "* If one variable is increased the other will increase this is positive linear relationship.\n",
    "or\n",
    "* If one variable increases the correspondingle other decreses then this is called nehgative linear relationship.\n",
    "* Slope for positive linear relationship is postive and slope for negative linear relationship is negative.\n",
    "\n",
    "Linear regression has the equaation similar to that of equation of line but it also has the error parameter.\n",
    "![image.png](attachment:image.png)\n",
    "\n",
    "where \n",
    "$\\beta_1$ = slope\n",
    "\n",
    "$\\beta_0$ = $Y$ intercept\n",
    "\n",
    "$\\varepsilon$ = error term\n",
    "\n",
    "if slope is zero then the parameters do not have any relationship"
   ]
  },
  {
   "cell_type": "markdown",
   "metadata": {},
   "source": [
    "### **Model 1**"
   ]
  },
  {
   "cell_type": "markdown",
   "metadata": {},
   "source": [
    "Performing linear regression and creating Model one\n",
    "* target variable (dependent variable) taken here is creatinine.\n",
    "\n",
    "**Note** For linear regression the targeted variable should be continous.\n",
    "* Independent variables depending on correlation with creatinine taken for this model: Age, kappa, lambda, flc.grp, futime, death and chapter\n",
    "* **Binary** independent variable: Death\n",
    "* **Multiclass** independent variable : Chapter"
   ]
  },
  {
   "cell_type": "code",
   "execution_count": null,
   "metadata": {},
   "outputs": [],
   "source": [
    "X = pd.DataFrame(np.c_[df['age'], df['kappa'], df['lambda'], df['flc.grp'], df['futime'], df['death'], \n",
    "                       df['chapter_Circulatory'],df['chapter_Congenital'],df['chapter_Digestive'],\n",
    "                       df['chapter_Endocrine'],df['chapter_Genitourinary'],df['chapter_Mental'],df['chapter_Musculoskeletal'],\n",
    "                       df['chapter_Neoplasms'],df['chapter_Nervous'],df['chapter_No reason'],df['chapter_Respiratory']], \n",
    "                 columns = ['age','kappa','lambda','flc.grp','futime','death','chapter_Circulatory','chapter_Congenital',\n",
    "                            'chapter_Digestive','chapter_Endocrine','chapter_Genitourinary','chapter_Mental',\n",
    "                            'chapter_Musculoskeletal','chapter_Neoplasms','chapter_Nervous','chapter_No reason',\n",
    "                            'chapter_Respiratory'])\n",
    "Y= df['creatinine']"
   ]
  },
  {
   "cell_type": "markdown",
   "metadata": {},
   "source": [
    "**Spliting data into Training and Test data**"
   ]
  },
  {
   "cell_type": "markdown",
   "metadata": {},
   "source": [
    "Separating a data set into a training set and testing set\n",
    "The model is trained to predict the known outputs and later tested using test data and applied to generalize other non-trained data. Test data is used to test the prediction ability (accuracy) of the model. Training data (X_train,y_train) is used to fit the regression model(make a linear model).\n",
    "* Most of the data is used for training, and a smaller portion of the data is used for testing. \n",
    "* Here training is 70 % and testing is 30%.\n",
    "* Analysis Services randomly samples the data to help ensure that the testing and training sets are similar\n"
   ]
  },
  {
   "cell_type": "code",
   "execution_count": null,
   "metadata": {},
   "outputs": [],
   "source": [
    "from sklearn.model_selection import train_test_split\n",
    "from sklearn.metrics import mean_squared_error, mean_squared_log_error\n",
    "X_train, X_test, y_train, y_test = train_test_split(X, Y, test_size = 0.3, random_state = 0)"
   ]
  },
  {
   "cell_type": "markdown",
   "metadata": {},
   "source": [
    "**Building Linear Regression model 1**"
   ]
  },
  {
   "cell_type": "code",
   "execution_count": null,
   "metadata": {},
   "outputs": [],
   "source": [
    "reg = linear_model.LinearRegression()\n",
    "s= reg.fit(X_train, y_train)\n",
    "predict = reg.predict(X_test)\n",
    "\n",
    "#print (reg.intercept_, reg.coef_)"
   ]
  },
  {
   "cell_type": "code",
   "execution_count": null,
   "metadata": {},
   "outputs": [],
   "source": [
    "score = reg.score(X_train, y_train)\n",
    "print(\" Training Score  = \",score*100,\"%\")"
   ]
  },
  {
   "cell_type": "code",
   "execution_count": null,
   "metadata": {},
   "outputs": [],
   "source": [
    "#Accuracy of the prediction\n",
    "\n",
    "confidence = reg.score(X_test, y_test)\n",
    "print(\"Test Score\", confidence*100)"
   ]
  },
  {
   "cell_type": "markdown",
   "metadata": {},
   "source": [
    "Linear regression, also called Ordinary Least-Squares (OLS) Regression"
   ]
  },
  {
   "cell_type": "code",
   "execution_count": null,
   "metadata": {
    "scrolled": false
   },
   "outputs": [],
   "source": [
    "model = sm.OLS(Y,X)\n",
    "s = model.fit()\n",
    "s.summary()"
   ]
  },
  {
   "cell_type": "markdown",
   "metadata": {},
   "source": [
    "The **p-value** p-value, which is the probability of observing an effect of the same magnitude or more extreme given that the null hypothesis is true. For each independent variable tests the null hypothesis that the variable has no correlation with the dependent variable. \n",
    "* If there is no correlation, there is no association between the changes in the independent variable and the shifts in the dependent variable. \n",
    "* If the p-value for a variable is less than your significance level, your sample data provide **enough** evidence to reject the null hypothesis that means non-zero correlation. \n",
    "* If p-value that is greater than the significance level indicates that there is **insufficient** evidence in your sample to conclude that a non-zero correlation exists.\n",
    "* Usually the significance level is 0.05\n",
    "* It is standard practice to use the coefficient p-values to decide whether to include variables in the final model.\n",
    "* Keeping variables that are not statistically significant can reduce the model’s precision.\n",
    "* **Reject the null hypothesis if p < 0.05**"
   ]
  },
  {
   "cell_type": "markdown",
   "metadata": {},
   "source": [
    "**Is the relationship significant?**\n",
    "\n",
    "Yes there are some relationships which are significant and some which are non signifficant depending on p- value.\n",
    "\n",
    "Significant relationship:\n",
    "\n",
    "kappa\n",
    "\n",
    "lambda \n",
    "\n",
    "flc.grp\n",
    "\n",
    "death\n",
    "\n",
    "chapter_Congenital\n",
    "\n",
    "chapter_No reason\n",
    " \n",
    "rest all are non significant relationship\n",
    "\n",
    "Thus, Over all relationship is not significant\n"
   ]
  },
  {
   "cell_type": "markdown",
   "metadata": {},
   "source": [
    "**Cross Validation**"
   ]
  },
  {
   "cell_type": "markdown",
   "metadata": {},
   "source": [
    "Cross-validation is a resampling procedure used to evaluate machine learning models on a limited data sample.\n",
    "\n",
    "K-fold cross validation, means testing how well the model is able to get trained by some data. K-Fold cross validation means that spliting the training into k parts or segments and out of them k-1 segments are used to train the data"
   ]
  },
  {
   "cell_type": "code",
   "execution_count": null,
   "metadata": {},
   "outputs": [],
   "source": [
    "from math import sqrt\n",
    "predict = reg.predict(X_test)\n",
    "rms = sqrt(mean_squared_error(y_test, predict))\n",
    "rms"
   ]
  },
  {
   "cell_type": "markdown",
   "metadata": {},
   "source": [
    "Spliting in 5 folds"
   ]
  },
  {
   "cell_type": "code",
   "execution_count": null,
   "metadata": {},
   "outputs": [],
   "source": [
    "kf = RepeatedKFold(n_splits=5, n_repeats=10, random_state=None)\n",
    "creatinine = []\n",
    "for train, test in kf.split(X):\n",
    "   reg.fit(X.iloc[train],Y.iloc[train])\n",
    "   creatinine.append(np.sqrt(metrics.mean_squared_error(Y.iloc[test], reg.predict(X.iloc[test]))))\n",
    "# creatinine"
   ]
  },
  {
   "cell_type": "code",
   "execution_count": null,
   "metadata": {},
   "outputs": [],
   "source": [
    "rmse = np.mean(creatinine)\n",
    "rmse"
   ]
  },
  {
   "cell_type": "markdown",
   "metadata": {},
   "source": [
    "After the cross validation the rmse valuse is inreasing, that means after cross validataion model did not performed well "
   ]
  },
  {
   "cell_type": "code",
   "execution_count": null,
   "metadata": {},
   "outputs": [],
   "source": [
    "score = reg.score(X_train, y_train)\n",
    "print(\" Training Score  = \",score*100,\"%\")"
   ]
  },
  {
   "cell_type": "code",
   "execution_count": null,
   "metadata": {},
   "outputs": [],
   "source": [
    "confidence = reg.score(X_test, y_test)\n",
    "print(\"Test Score\",confidence*100)"
   ]
  },
  {
   "cell_type": "code",
   "execution_count": null,
   "metadata": {},
   "outputs": [],
   "source": [
    "confidence = reg.score(X_test, predict)\n",
    "print(\"Test Score\",confidence*100)"
   ]
  },
  {
   "cell_type": "code",
   "execution_count": null,
   "metadata": {
    "scrolled": true
   },
   "outputs": [],
   "source": [
    "predict = reg.predict(X_test)"
   ]
  },
  {
   "cell_type": "code",
   "execution_count": null,
   "metadata": {},
   "outputs": [],
   "source": [
    "sns.regplot(y_test,predict)\n",
    "plt.xlabel(\"actual values of creatinine\")\n",
    "plt.ylabel(\"predicted values of creatinine\")\n",
    "plt.title(\"Actual vs Predicted\")\n"
   ]
  },
  {
   "cell_type": "markdown",
   "metadata": {},
   "source": [
    "**Diagnosing Normality**"
   ]
  },
  {
   "cell_type": "markdown",
   "metadata": {},
   "source": [
    "If we run a statistical analysis that assumes our dependent variable is Normally distributed, we can use a Normal Q-Q plot to check that assumption. It allows us to see at-a-glance if our assumption is plausible, and if not, how the assumption is violated and what data points contribute to the violation. A Q-Q plot is a scatterplot created by plotting two sets of quantiles against one another."
   ]
  },
  {
   "cell_type": "code",
   "execution_count": null,
   "metadata": {},
   "outputs": [],
   "source": [
    "sm.qqplot(s.resid, line = 'r')\n",
    "plt.show()"
   ]
  },
  {
   "cell_type": "markdown",
   "metadata": {},
   "source": [
    "The above q-q plot means that the data have more extreme values than would be expected if they truly came from a Normal distribution. This means that the data is not normally distributed. Hence the Assumption of Normality is voilated.\n"
   ]
  },
  {
   "cell_type": "markdown",
   "metadata": {},
   "source": [
    "## Testing Multicolinearity"
   ]
  },
  {
   "cell_type": "code",
   "execution_count": null,
   "metadata": {},
   "outputs": [],
   "source": [
    "from statsmodels.stats.outliers_influence import variance_inflation_factor\n",
    "vif = pd.DataFrame()\n",
    "vif[\"VIF Factor\"] = [variance_inflation_factor(X.values, i) \n",
    "                     for i in range(X.shape[1])]\n",
    "vif[\"features\"] = X.columns"
   ]
  },
  {
   "cell_type": "code",
   "execution_count": null,
   "metadata": {},
   "outputs": [],
   "source": [
    "vif.round(1)"
   ]
  },
  {
   "cell_type": "code",
   "execution_count": null,
   "metadata": {},
   "outputs": [],
   "source": [
    "X = pd.DataFrame(np.c_[df['age'], df['kappa'], df['lambda'], df['flc.grp'], df['futime'], df['chapter_Congenital'],df['chapter_Digestive'],\n",
    "                       df['chapter_Endocrine'],df['chapter_Genitourinary'],df['chapter_Mental'],df['chapter_Musculoskeletal'],\n",
    "                       df['chapter_Nervous'],df['chapter_No reason'],df['chapter_Respiratory']], \n",
    "                 columns = ['age','kappa','lambda','flc.grp','futime','chapter_Congenital',\n",
    "                            'chapter_Digestive','chapter_Endocrine','chapter_Genitourinary','chapter_Mental',\n",
    "                            'chapter_Musculoskeletal','chapter_Nervous','chapter_No reason',\n",
    "                            'chapter_Respiratory'])\n",
    "Y= df['creatinine']"
   ]
  },
  {
   "cell_type": "code",
   "execution_count": null,
   "metadata": {},
   "outputs": [],
   "source": [
    "X_train, X_test, y_train, y_test = train_test_split(X, Y, test_size = 0.3, random_state = 0)"
   ]
  },
  {
   "cell_type": "code",
   "execution_count": null,
   "metadata": {},
   "outputs": [],
   "source": [
    "reg = linear_model.LinearRegression()\n",
    "s= reg.fit(X_train, y_train)\n"
   ]
  },
  {
   "cell_type": "code",
   "execution_count": null,
   "metadata": {},
   "outputs": [],
   "source": [
    "model = sm.OLS(Y,X)\n",
    "s = model.fit()\n",
    "s.summary()"
   ]
  },
  {
   "cell_type": "code",
   "execution_count": null,
   "metadata": {},
   "outputs": [],
   "source": [
    "score = reg.score(X_train, y_train)\n",
    "print(\" Training Score  = \",score*100,\"%\")"
   ]
  },
  {
   "cell_type": "code",
   "execution_count": null,
   "metadata": {},
   "outputs": [],
   "source": [
    "confidence = reg.score(X_test, y_test)\n",
    "confidence*100"
   ]
  },
  {
   "cell_type": "code",
   "execution_count": null,
   "metadata": {},
   "outputs": [],
   "source": [
    "\n",
    "def stepwise_selection(X, y, \n",
    "                       initial_list=[], \n",
    "                       threshold_in=0.01, \n",
    "                       threshold_out = 0.05, \n",
    "                       verbose=True):\n",
    "    \"\"\" Perform a forward-backward feature selection \n",
    "    based on p-value from statsmodels.api.OLS\n",
    "    Arguments:\n",
    "        X - pandas.DataFrame with candidate features\n",
    "        y - list-like with the target\n",
    "        initial_list - list of features to start with (column names of X)\n",
    "        threshold_in - include a feature if its p-value < threshold_in\n",
    "        threshold_out - exclude a feature if its p-value > threshold_out\n",
    "        verbose - whether to print the sequence of inclusions and exclusions\n",
    "    Returns: list of selected features \n",
    "    Always set threshold_in < threshold_out to avoid infinite looping.\n",
    "    See https://en.wikipedia.org/wiki/Stepwise_regression for the details\n",
    "    \"\"\"\n",
    "    included = list(initial_list)\n",
    "    while True:\n",
    "        changed=False\n",
    "        # forward step\n",
    "        excluded = list(set(X.columns)-set(included))\n",
    "        new_pval = pd.Series(index=excluded)\n",
    "        for new_column in excluded:\n",
    "            model = sm.OLS(y, sm.add_constant(pd.DataFrame(X[included+[new_column]]))).fit()\n",
    "            new_pval[new_column] = model.pvalues[new_column]\n",
    "        best_pval = new_pval.min()\n",
    "        if best_pval < threshold_in:\n",
    "            best_feature = new_pval.argmin()\n",
    "            included.append(best_feature)\n",
    "            changed=True\n",
    "            if verbose:\n",
    "                print('Add  {:30} with p-value {:.6}'.format(best_feature, best_pval))\n",
    "\n",
    "        # backward step\n",
    "        model = sm.OLS(y, sm.add_constant(pd.DataFrame(X[included]))).fit()\n",
    "        # use all coefs except intercept\n",
    "        pvalues = model.pvalues.iloc[1:]\n",
    "        worst_pval = pvalues.max() # null if pvalues is empty\n",
    "        if worst_pval > threshold_out:\n",
    "            changed=True\n",
    "            worst_feature = pvalues.argmax()\n",
    "            included.remove(worst_feature)\n",
    "            if verbose:\n",
    "                print('Drop {:30} with p-value {:.6}'.format(worst_feature, worst_pval))\n",
    "        if not changed:\n",
    "            break\n",
    "    return included\n",
    "\n",
    "result = stepwise_selection(X, Y)\n",
    "\n",
    "print('resulting features:')\n",
    "print(result)"
   ]
  },
  {
   "cell_type": "markdown",
   "metadata": {},
   "source": [
    "**Regularization**"
   ]
  },
  {
   "cell_type": "code",
   "execution_count": null,
   "metadata": {
    "scrolled": true
   },
   "outputs": [],
   "source": [
    "rr = Ridge(alpha=40.0)   # higher the alpha value, more restriction on the coefficients; low alpha > more generalization, coefficients are barely\n",
    "\n",
    "rr.fit(X_train, y_train)\n",
    "\n",
    "rr100 = Ridge(alpha=110) #  comparison with alpha value\n",
    "rr100.fit(X_train, y_train)\n",
    "\n",
    "from sklearn.linear_model import Ridge\n",
    "print(\"Regulrization L2 train score : \",  rr.score(X_train,y_train)*100)\n",
    "print(\"Regulrization L2 test score : \", rr.score(X_test, y_test)*100)\n",
    "print(\"Regulrization L2 train score for alpha = 100: \",  rr100.score(X_train,y_train)*100)\n",
    "print(\"Regulrization L2 test score for alpha = 100: \",rr100.score(X_test, y_test)*100)"
   ]
  },
  {
   "cell_type": "markdown",
   "metadata": {},
   "source": [
    "### Assumptions\n",
    "\n",
    "To find the best fit, Assumptions are checked. \n",
    "\n",
    "Multiple linear regression analysis makes several key assumptions.\n",
    "Linear regression assumes the following assumptions:\n",
    "1. linear relationship:\n",
    "    * Linear relationship between dependent and independent variable\n",
    "    * **Assumption voilated:** According to the scatter plot there seems nno relation ship betweenn the variables.\n",
    "2. Multivariate Normality\n",
    "    * Dependent variable is normally distributed\n",
    "    * **Assumption voilated:** Whe refering to the q-q plot above we see that there are extreme values which was not expected in normal distribution.\n",
    "3. No Multicollinearity\n",
    "    * No high correlation between dependent and indepenedent variable.\n",
    "    * **Assumption voilated:** There is multicolinearity in the model, it can be seen in the vif table which has variable with high VIF.\n",
    "4. Homoscedasticity\n",
    "    * the variance around the regression line is the same for all values of the predictor variable (X). For each value of X, the distribution of residuals has the same variance. This means that the level of error in the model is roughly the same regardless of the value of the explanatory variable \n",
    "    * **Assumption voilated:** Since the variance of X variable is not constant in the scatter plot, thus the model is not Homoscedastic."
   ]
  },
  {
   "cell_type": "markdown",
   "metadata": {},
   "source": [
    "### Model 2 "
   ]
  },
  {
   "cell_type": "markdown",
   "metadata": {},
   "source": [
    "Performing linear regression and creating Model two\n",
    "* Target variable(dependent variable) taken here is creatinine.\n",
    "\n",
    "**Note** For linear regression the targeted variable should be continous.\n",
    "* Independent variables depending on correlation with creatinine taken for this model: kappa, lambda, flc.grp, death and chapter\n",
    "* **Binary** independent variable: Death\n",
    "* **Multiclass** independent variable : Chapter"
   ]
  },
  {
   "cell_type": "code",
   "execution_count": null,
   "metadata": {},
   "outputs": [],
   "source": [
    "#Defining dependent and independent variables\n",
    "columns = ['kappa','lambda','flc.grp','death','futime','chapter_Congenital','chapter_No reason']\n",
    "Y = df['creatinine']\n",
    "X = df[columns]"
   ]
  },
  {
   "cell_type": "markdown",
   "metadata": {},
   "source": [
    "**Spliting data into Training and Test data**\n",
    "\n",
    "Here training is 70 % and testing is 30%.\n",
    "\n"
   ]
  },
  {
   "cell_type": "code",
   "execution_count": null,
   "metadata": {},
   "outputs": [],
   "source": [
    "X_train, X_test, y_train, y_test = train_test_split(X, Y, test_size = 0.3, random_state = 0)"
   ]
  },
  {
   "cell_type": "markdown",
   "metadata": {},
   "source": [
    "**Building Linear Regression model 2**"
   ]
  },
  {
   "cell_type": "code",
   "execution_count": null,
   "metadata": {},
   "outputs": [],
   "source": [
    "l_model = linear_model.LinearRegression()\n",
    "s1= l_model.fit(X_train, y_train)\n",
    "\n",
    "\n",
    "predict = l_model.predict(X_test)\n",
    "#print (l_model.intercept_, l_model.coef_)"
   ]
  },
  {
   "cell_type": "markdown",
   "metadata": {},
   "source": [
    "Checking the score of the train data, that how well it is performing in linera regression."
   ]
  },
  {
   "cell_type": "code",
   "execution_count": null,
   "metadata": {},
   "outputs": [],
   "source": [
    "trainscore = l_model.score(X_train, y_train)\n",
    "print(\"Training Score\",trainscore*100)"
   ]
  },
  {
   "cell_type": "markdown",
   "metadata": {},
   "source": [
    "Checking the score of the test data, that how well it is performing in linear regression."
   ]
  },
  {
   "cell_type": "code",
   "execution_count": null,
   "metadata": {},
   "outputs": [],
   "source": [
    "#Accuracy of the prediction\n",
    "\n",
    "confidence = l_model.score(X_test, y_test)\n",
    "print(\"Test Score\",confidence*100)"
   ]
  },
  {
   "cell_type": "code",
   "execution_count": null,
   "metadata": {},
   "outputs": [],
   "source": [
    "confidence = l_model.score(X_test, predict)\n",
    "print(\"Test Score\",confidence*100)"
   ]
  },
  {
   "cell_type": "markdown",
   "metadata": {},
   "source": [
    "Taking out the regression results, to check the AIC, BIC, R^2"
   ]
  },
  {
   "cell_type": "code",
   "execution_count": null,
   "metadata": {
    "scrolled": true
   },
   "outputs": [],
   "source": [
    "model1 = sm.OLS(Y, X)\n",
    "s1 = model1.fit()\n",
    "s1.summary()"
   ]
  },
  {
   "cell_type": "markdown",
   "metadata": {},
   "source": [
    "**Is the relationship significant?**\n",
    "\n",
    "Yes there are some relationships which are significant and some which are non signifficant depending on p- value.\n",
    "\n",
    "Significant relationship:\n",
    "\n",
    "kappa\n",
    "\n",
    "lambda \n",
    "\n",
    "death\n",
    "\n",
    "chapter_Congenital\n",
    "\n",
    "chapter_No reason\n",
    " \n",
    "non significant relationship:\n",
    "\n",
    "futime\n",
    "\n",
    "Thus, Over all **relationship is not significant**\n"
   ]
  },
  {
   "cell_type": "code",
   "execution_count": null,
   "metadata": {},
   "outputs": [],
   "source": [
    "rmse = sqrt(mean_squared_error(y_test, predict))\n",
    "rmse"
   ]
  },
  {
   "cell_type": "code",
   "execution_count": null,
   "metadata": {
    "scrolled": false
   },
   "outputs": [],
   "source": [
    "kf = RepeatedKFold(n_splits=5, n_repeats=10, random_state=None)\n",
    "creatinine = []\n",
    "for train, test in kf.split(X):\n",
    "   reg.fit(X.iloc[train],Y.iloc[train])\n",
    "   creatinine.append(np.sqrt(metrics.mean_squared_error(Y.iloc[test], reg.predict(X.iloc[test]))))"
   ]
  },
  {
   "cell_type": "code",
   "execution_count": null,
   "metadata": {},
   "outputs": [],
   "source": [
    "rmse = np.mean(creatinine)\n",
    "rmse"
   ]
  },
  {
   "cell_type": "markdown",
   "metadata": {},
   "source": [
    "After the cross validation the rmse valuse is inreasing, that means after cross validataion model did not performed well "
   ]
  },
  {
   "cell_type": "code",
   "execution_count": null,
   "metadata": {},
   "outputs": [],
   "source": [
    "trainscore = l_model.score(X_train, y_train)\n",
    "print(\"Training Score\",trainscore*100)"
   ]
  },
  {
   "cell_type": "code",
   "execution_count": null,
   "metadata": {},
   "outputs": [],
   "source": [
    "confidence = l_model.score(X_test, y_test)\n",
    "print(\"Test Score\",confidence*100)"
   ]
  },
  {
   "cell_type": "code",
   "execution_count": null,
   "metadata": {},
   "outputs": [],
   "source": [
    "plt.scatter(y_test,predict)"
   ]
  },
  {
   "cell_type": "code",
   "execution_count": null,
   "metadata": {},
   "outputs": [],
   "source": [
    "sns.regplot(y_test,predict)"
   ]
  },
  {
   "cell_type": "markdown",
   "metadata": {},
   "source": [
    "**Diagnosing Normality**"
   ]
  },
  {
   "cell_type": "code",
   "execution_count": null,
   "metadata": {},
   "outputs": [],
   "source": [
    "sm.qqplot(s.resid, line = 'r')\n",
    "plt.show()"
   ]
  },
  {
   "cell_type": "markdown",
   "metadata": {},
   "source": [
    "The above q-q plot means that the data have more extreme values than would be expected if they truly came from a Normal distribution. This means that the data is not normally distributed. Hence the Assumption of Normality is voilated.\n"
   ]
  },
  {
   "cell_type": "markdown",
   "metadata": {},
   "source": [
    "**Testing Multicolinearity**"
   ]
  },
  {
   "cell_type": "code",
   "execution_count": null,
   "metadata": {},
   "outputs": [],
   "source": [
    "vif = pd.DataFrame()\n",
    "vif[\"VIF Factor\"] = [variance_inflation_factor(X.values, i) \n",
    "                     for i in range(X.shape[1])]\n",
    "vif[\"features\"] = X.columns\n",
    "#print (reg.intercept_, reg.coef_)\n"
   ]
  },
  {
   "cell_type": "code",
   "execution_count": null,
   "metadata": {},
   "outputs": [],
   "source": [
    "vif.round(1)"
   ]
  },
  {
   "cell_type": "code",
   "execution_count": null,
   "metadata": {},
   "outputs": [],
   "source": [
    "#Defining dependent and independent variables\n",
    "columns = ['kappa','lambda','flc.grp','death','futime','chapter_Congenital']\n",
    "Y = df['creatinine']\n",
    "x = df[columns]\n",
    "\n",
    "X_train, X_test, y_train, y_test = train_test_split(X, Y, test_size = 0.3, random_state = 0)"
   ]
  },
  {
   "cell_type": "code",
   "execution_count": null,
   "metadata": {},
   "outputs": [],
   "source": [
    "reg = linear_model.LinearRegression()\n",
    "s= reg.fit(X_train, y_train)\n",
    "predict = reg.predict(X_test)\n",
    "predict"
   ]
  },
  {
   "cell_type": "code",
   "execution_count": null,
   "metadata": {},
   "outputs": [],
   "source": [
    "model = sm.OLS(Y,X)\n",
    "s = model.fit()\n",
    "s.summary()"
   ]
  },
  {
   "cell_type": "code",
   "execution_count": null,
   "metadata": {},
   "outputs": [],
   "source": [
    "trainscore = l_model.score(X_train, y_train)\n",
    "print(\"Training Score\",trainscore*100)"
   ]
  },
  {
   "cell_type": "code",
   "execution_count": null,
   "metadata": {},
   "outputs": [],
   "source": [
    "confidence = reg.score(X_test, y_test)\n",
    "confidence*100"
   ]
  },
  {
   "cell_type": "code",
   "execution_count": null,
   "metadata": {},
   "outputs": [],
   "source": [
    "confidence = l_model.score(X_test,predict)\n",
    "print(\"Test Score\",confidence*100)"
   ]
  },
  {
   "cell_type": "code",
   "execution_count": null,
   "metadata": {},
   "outputs": [],
   "source": [
    "def stepwise_selection(X, y, \n",
    "                       initial_list=[], \n",
    "                       threshold_in=0.01, \n",
    "                       threshold_out = 0.05, \n",
    "                       verbose=True):\n",
    "    \"\"\" Perform a forward-backward feature selection \n",
    "    based on p-value from statsmodels.api.OLS\n",
    "    Arguments:\n",
    "        X - pandas.DataFrame with candidate features\n",
    "        y - list-like with the target\n",
    "        initial_list - list of features to start with (column names of X)\n",
    "        threshold_in - include a feature if its p-value < threshold_in\n",
    "        threshold_out - exclude a feature if its p-value > threshold_out\n",
    "        verbose - whether to print the sequence of inclusions and exclusions\n",
    "    Returns: list of selected features \n",
    "    Always set threshold_in < threshold_out to avoid infinite looping.\n",
    "    See https://en.wikipedia.org/wiki/Stepwise_regression for the details\n",
    "    \"\"\"\n",
    "    included = list(initial_list)\n",
    "    while True:\n",
    "        changed=False\n",
    "        # forward step\n",
    "        excluded = list(set(X.columns)-set(included))\n",
    "        new_pval = pd.Series(index=excluded)\n",
    "        for new_column in excluded:\n",
    "            model = sm.OLS(y, sm.add_constant(pd.DataFrame(X[included+[new_column]]))).fit()\n",
    "            new_pval[new_column] = model.pvalues[new_column]\n",
    "        best_pval = new_pval.min()\n",
    "        if best_pval < threshold_in:\n",
    "            best_feature = new_pval.argmin()\n",
    "            included.append(best_feature)\n",
    "            changed=True\n",
    "            if verbose:\n",
    "                print('Add  {:30} with p-value {:.6}'.format(best_feature, best_pval))\n",
    "\n",
    "        # backward step\n",
    "        model = sm.OLS(y, sm.add_constant(pd.DataFrame(X[included]))).fit()\n",
    "        # use all coefs except intercept\n",
    "        pvalues = model.pvalues.iloc[1:]\n",
    "        worst_pval = pvalues.max() # null if pvalues is empty\n",
    "        if worst_pval > threshold_out:\n",
    "            changed=True\n",
    "            worst_feature = pvalues.argmax()\n",
    "            included.remove(worst_feature)\n",
    "            if verbose:\n",
    "                print('Drop {:30} with p-value {:.6}'.format(worst_feature, worst_pval))\n",
    "        if not changed:\n",
    "            break\n",
    "    return included\n",
    "\n",
    "result = stepwise_selection(X,Y)\n",
    "\n",
    "print('resulting features:')\n",
    "print(result)"
   ]
  },
  {
   "cell_type": "markdown",
   "metadata": {},
   "source": [
    "**Regularization**"
   ]
  },
  {
   "cell_type": "code",
   "execution_count": null,
   "metadata": {},
   "outputs": [],
   "source": [
    "rr = Ridge(alpha=40.0)   # higher the alpha value, more restriction on the coefficients; low alpha > more generalization, coefficients are barely\n",
    "\n",
    "rr.fit(X_train, y_train)\n",
    "\n",
    "rr100 = Ridge(alpha=110) #  comparison with alpha value\n",
    "rr100.fit(X_train, y_train)\n",
    "\n",
    "from sklearn.linear_model import Ridge\n",
    "print(\"Regulrization L2 train score : \",  rr.score(X_train,y_train)*100)\n",
    "print(\"Regulrization L2 test score : \", rr.score(X_test, y_test)*100)\n",
    "print(\"Regulrization L2 train score for alpha = 100: \",  rr100.score(X_train,y_train)*100)\n",
    "print(\"Regulrization L2 test score for alpha = 100: \",rr100.score(X_test, y_test)*100)"
   ]
  },
  {
   "cell_type": "markdown",
   "metadata": {},
   "source": [
    "### Assumptions\n",
    "\n",
    "To find the best fit, Assumptions are checked. \n",
    "\n",
    "Multiple linear regression analysis makes several key assumptions.\n",
    "Linear regression assumes the following assumptions:\n",
    "1. linear relationship:\n",
    "    * Linear relationship between dependent and independent variable\n",
    "    * **Assumption voilated:** According to the scatter plot there seems no relationship between the variables.\n",
    "2. Multivariate Normality\n",
    "    * Dependent variable is normally distributed\n",
    "    * **Assumption voilated:** When refering to the q-q plot above we see that there are extreme values which was not expected in normal distribution.\n",
    "3. No Multicollinearity\n",
    "    * No high correlation between dependent and indepenedent variable.\n",
    "    * **Assumption voilated:** There is multicolinearity in the model, it can be seen in the vif table which has variable with high VIF.\n",
    "4. Homoscedasticity\n",
    "    * the variance around the regression line is the same for all values of the predictor variable (X). For each value of X, the distribution of residuals has the same variance. This means that the level of error in the model is roughly the same regardless of the value of the explanatory variable \n",
    "    * **Assumption voilated:** Since the variance of X variable is not constant in the scatter plot, thus the model is not Homoscedastic."
   ]
  },
  {
   "cell_type": "markdown",
   "metadata": {},
   "source": [
    "### Model 3 \n"
   ]
  },
  {
   "cell_type": "markdown",
   "metadata": {},
   "source": [
    "Performing linear regression and creating Model three\n",
    "* Target variable (dependent variable) taken here is creatinine.\n",
    "\n",
    "**Note** For linear regression the targeted variable should be continous.\n",
    "* Independent variables depending on correlation with creatinine taken for this model: Age, kappa, lambda, death and chapter\n",
    "* **Binary** independent variable: Death\n",
    "* **Multiclass** independent variable : Chapter"
   ]
  },
  {
   "cell_type": "markdown",
   "metadata": {},
   "source": [
    "**Spliting data into Training and Test data**\n",
    "\n",
    "Here training is 70 % and testing is 30%."
   ]
  },
  {
   "cell_type": "code",
   "execution_count": null,
   "metadata": {},
   "outputs": [],
   "source": [
    "columns = ['age','kappa','lambda','death','chapter_Circulatory','chapter_Congenital',\n",
    "                            'chapter_Digestive','chapter_Endocrine','chapter_Genitourinary','chapter_Mental',\n",
    "                            'chapter_Musculoskeletal','chapter_Neoplasms','chapter_Nervous','chapter_No reason',\n",
    "                            'chapter_Respiratory']\n",
    "Y = df['creatinine']\n",
    "X = df[columns]"
   ]
  },
  {
   "cell_type": "code",
   "execution_count": null,
   "metadata": {},
   "outputs": [],
   "source": [
    "X_train, X_test, y_train, y_test = train_test_split(X, Y, test_size = 0.3, random_state = 0)"
   ]
  },
  {
   "cell_type": "markdown",
   "metadata": {},
   "source": [
    "**Building Linear Regression model 3**"
   ]
  },
  {
   "cell_type": "code",
   "execution_count": null,
   "metadata": {},
   "outputs": [],
   "source": [
    "l_model3 = linear_model.LinearRegression()  #creating the model\n",
    "result= l_model3.fit(X_train, y_train)  #training the model\n",
    "\n",
    "# predict = l_model3.predict(X_test)\n",
    "#print (l_model.intercept_, l_model.coef_)"
   ]
  },
  {
   "cell_type": "markdown",
   "metadata": {},
   "source": [
    "Checking the score of the train data, that how well it is performing in linear regression."
   ]
  },
  {
   "cell_type": "code",
   "execution_count": null,
   "metadata": {},
   "outputs": [],
   "source": [
    "trainscore = l_model3.score(X_train, y_train)\n",
    "print(\"Training Score\",trainscore*100)"
   ]
  },
  {
   "cell_type": "markdown",
   "metadata": {},
   "source": [
    "Checking the score of the test data, that how well it is performing in linera regression."
   ]
  },
  {
   "cell_type": "code",
   "execution_count": null,
   "metadata": {},
   "outputs": [],
   "source": [
    "confidence = l_model3.score(X_test, y_test)\n",
    "print(\"Test Score\",confidence*100)"
   ]
  },
  {
   "cell_type": "markdown",
   "metadata": {},
   "source": [
    "Taking out the regression results, to check the AIC, BIC, R^2"
   ]
  },
  {
   "cell_type": "code",
   "execution_count": null,
   "metadata": {},
   "outputs": [],
   "source": [
    "model = sm.OLS(Y, X)\n",
    "result = model.fit()\n",
    "result.summary()"
   ]
  },
  {
   "cell_type": "markdown",
   "metadata": {},
   "source": [
    "**Is the relationship significant?**\n",
    "\n",
    "Yes there are some relationships which are significant and some which are non signifficant depending on p- value.\n",
    "\n",
    "Significant relationship:\n",
    "\n",
    "kappa\n",
    "\n",
    "lambda \n",
    "\n",
    "death\n",
    "\n",
    "chapter_Congenital\n",
    "\n",
    "chapter_No reason\n",
    " \n",
    "rest all are non significant relationship\n",
    "\n",
    "\n",
    "Thus, Over all **relationship is not significant**\n"
   ]
  },
  {
   "cell_type": "markdown",
   "metadata": {},
   "source": [
    "**Diagnosing Normality**"
   ]
  },
  {
   "cell_type": "code",
   "execution_count": null,
   "metadata": {},
   "outputs": [],
   "source": [
    "sm.qqplot(result.resid, line = 'r')\n",
    "plt.show()"
   ]
  },
  {
   "cell_type": "markdown",
   "metadata": {},
   "source": [
    "the above qq plot means that the data have more extreme values than would be expected if they truly came from a Normal distribution."
   ]
  },
  {
   "cell_type": "markdown",
   "metadata": {},
   "source": [
    "**Cross Validation**\n"
   ]
  },
  {
   "cell_type": "markdown",
   "metadata": {},
   "source": [
    "Cross-validation is a resampling procedure used to evaluate machine learning models on a limited data sample.\n",
    "\n",
    "K-fold cross validation, means testing how well the model is able to get trained by some data. K-Fold cross validation means that spliting the training into k parts or segments and out of them k-1 segments are used to train the data"
   ]
  },
  {
   "cell_type": "code",
   "execution_count": null,
   "metadata": {},
   "outputs": [],
   "source": [
    "rmse = np.sqrt(metrics.mean_squared_error(y_test, predict))\n",
    "rmse"
   ]
  },
  {
   "cell_type": "markdown",
   "metadata": {},
   "source": [
    "Spliting in 5 folds"
   ]
  },
  {
   "cell_type": "code",
   "execution_count": null,
   "metadata": {},
   "outputs": [],
   "source": [
    "kf = RepeatedKFold(n_splits=5, n_repeats=10, random_state=None)\n",
    "creatinine = []\n",
    "for train, test in kf.split(X):\n",
    "   l_model3.fit(X.iloc[train],Y.iloc[train])\n",
    "   creatinine.append(np.sqrt(metrics.mean_squared_error(Y.iloc[test], l_model3.predict(X.iloc[test]))))"
   ]
  },
  {
   "cell_type": "code",
   "execution_count": null,
   "metadata": {},
   "outputs": [],
   "source": [
    "rmse = np.mean(creatinine)\n",
    "rmse"
   ]
  },
  {
   "cell_type": "markdown",
   "metadata": {},
   "source": [
    "After the cross validation the rmse valuse is inreasing, that means after cross validataion model did not performed well "
   ]
  },
  {
   "cell_type": "code",
   "execution_count": null,
   "metadata": {},
   "outputs": [],
   "source": [
    "trainscore = l_model3.score(X_train, y_train)\n",
    "print(\"Training Score\",trainscore*100)"
   ]
  },
  {
   "cell_type": "code",
   "execution_count": null,
   "metadata": {
    "scrolled": true
   },
   "outputs": [],
   "source": [
    "confidence = l_model3.score(X_test, y_test)\n",
    "print(\"Test Score\",confidence*100)"
   ]
  },
  {
   "cell_type": "code",
   "execution_count": null,
   "metadata": {},
   "outputs": [],
   "source": [
    "predict = l_model3.predict(X_test)"
   ]
  },
  {
   "cell_type": "code",
   "execution_count": null,
   "metadata": {
    "scrolled": true
   },
   "outputs": [],
   "source": [
    "plt.scatter(y_test,predict)\n"
   ]
  },
  {
   "cell_type": "markdown",
   "metadata": {},
   "source": [
    "**Testing Multicolinearity**"
   ]
  },
  {
   "cell_type": "code",
   "execution_count": null,
   "metadata": {},
   "outputs": [],
   "source": [
    "vif = pd.DataFrame()\n",
    "vif[\"VIF Factor\"] = [variance_inflation_factor(X.values, i) \n",
    "                     for i in range(X.shape[1])]\n",
    "vif[\"features\"] = X.columns"
   ]
  },
  {
   "cell_type": "code",
   "execution_count": null,
   "metadata": {
    "scrolled": false
   },
   "outputs": [],
   "source": [
    "vif.round(1)"
   ]
  },
  {
   "cell_type": "code",
   "execution_count": null,
   "metadata": {},
   "outputs": [],
   "source": [
    "columns = ['age','kappa','lambda','chapter_Congenital',\n",
    "                            'chapter_Musculoskeletal']\n",
    "Y = df['creatinine']\n",
    "X = df[columns]\n",
    "\n",
    "X_train, X_test, y_train, y_test = train_test_split(X, Y, test_size = 0.3, random_state = 0)"
   ]
  },
  {
   "cell_type": "code",
   "execution_count": null,
   "metadata": {},
   "outputs": [],
   "source": [
    "l_model3 = linear_model.LinearRegression()  #creating the model\n",
    "result= l_model3.fit(X_train, y_train)  #training the model\n",
    "\n",
    "predict = l_model3.predict(X_test)"
   ]
  },
  {
   "cell_type": "code",
   "execution_count": null,
   "metadata": {},
   "outputs": [],
   "source": [
    "model = sm.OLS(Y, X)\n",
    "result = model.fit()\n",
    "result.summary()"
   ]
  },
  {
   "cell_type": "code",
   "execution_count": null,
   "metadata": {},
   "outputs": [],
   "source": [
    "trainscore = l_model3.score(X_train, y_train)\n",
    "print(\"Training Score\",trainscore*100)"
   ]
  },
  {
   "cell_type": "code",
   "execution_count": null,
   "metadata": {},
   "outputs": [],
   "source": [
    "confidence = l_model3.score(X_test, y_test)\n",
    "confidence*100"
   ]
  },
  {
   "cell_type": "code",
   "execution_count": null,
   "metadata": {},
   "outputs": [],
   "source": [
    "def stepwise_selection(X, y, \n",
    "                       initial_list=[], \n",
    "                       threshold_in=0.01, \n",
    "                       threshold_out = 0.05, \n",
    "                       verbose=True):\n",
    "    \"\"\" Perform a forward-backward feature selection \n",
    "    based on p-value from statsmodels.api.OLS\n",
    "    Arguments:\n",
    "        X - pandas.DataFrame with candidate features\n",
    "        y - list-like with the target\n",
    "        initial_list - list of features to start with (column names of X)\n",
    "        threshold_in - include a feature if its p-value < threshold_in\n",
    "        threshold_out - exclude a feature if its p-value > threshold_out\n",
    "        verbose - whether to print the sequence of inclusions and exclusions\n",
    "    Returns: list of selected features \n",
    "    Always set threshold_in < threshold_out to avoid infinite looping.\n",
    "    See https://en.wikipedia.org/wiki/Stepwise_regression for the details\n",
    "    \"\"\"\n",
    "    included = list(initial_list)\n",
    "    while True:\n",
    "        changed=False\n",
    "        # forward step\n",
    "        excluded = list(set(X.columns)-set(included))\n",
    "        new_pval = pd.Series(index=excluded)\n",
    "        for new_column in excluded:\n",
    "            model = sm.OLS(y, sm.add_constant(pd.DataFrame(X[included+[new_column]]))).fit()\n",
    "            new_pval[new_column] = model.pvalues[new_column]\n",
    "        best_pval = new_pval.min()\n",
    "        if best_pval < threshold_in:\n",
    "            best_feature = new_pval.argmin()\n",
    "            included.append(best_feature)\n",
    "            changed=True\n",
    "            if verbose:\n",
    "                print('Add  {:30} with p-value {:.6}'.format(best_feature, best_pval))\n",
    "\n",
    "        # backward step\n",
    "        model = sm.OLS(y, sm.add_constant(pd.DataFrame(X[included]))).fit()\n",
    "        # use all coefs except intercept\n",
    "        pvalues = model.pvalues.iloc[1:]\n",
    "        worst_pval = pvalues.max() # null if pvalues is empty\n",
    "        if worst_pval > threshold_out:\n",
    "            changed=True\n",
    "            worst_feature = pvalues.argmax()\n",
    "            included.remove(worst_feature)\n",
    "            if verbose:\n",
    "                print('Drop {:30} with p-value {:.6}'.format(worst_feature, worst_pval))\n",
    "        if not changed:\n",
    "            break\n",
    "    return included\n",
    "\n",
    "result = stepwise_selection(X,Y)\n",
    "\n",
    "print('resulting features:')\n",
    "print(result)"
   ]
  },
  {
   "cell_type": "markdown",
   "metadata": {},
   "source": [
    "**Regularization**"
   ]
  },
  {
   "cell_type": "code",
   "execution_count": null,
   "metadata": {},
   "outputs": [],
   "source": [
    "rr = Ridge(alpha=40.0)   # higher the alpha value, more restriction on the coefficients; low alpha > more generalization, coefficients are barely"
   ]
  },
  {
   "cell_type": "code",
   "execution_count": null,
   "metadata": {},
   "outputs": [],
   "source": [
    "rr.fit(X_train, y_train)"
   ]
  },
  {
   "cell_type": "code",
   "execution_count": null,
   "metadata": {
    "scrolled": true
   },
   "outputs": [],
   "source": [
    "rr100 = Ridge(alpha=110) #  comparison with alpha value\n",
    "rr100.fit(X_train, y_train)"
   ]
  },
  {
   "cell_type": "code",
   "execution_count": null,
   "metadata": {},
   "outputs": [],
   "source": [
    "print(\"Regulrization L2 train score : \",  rr.score(X_train,y_train)*100)\n",
    "print(\"Regulrization L2 test score : \", rr.score(X_test, y_test)*100)\n",
    "print(\"Regulrization L2 train score for alpha = 100: \",  rr100.score(X_train,y_train)*100)\n",
    "print(\"Regulrization L2 test score for alpha = 100: \",rr100.score(X_test, y_test)*100)"
   ]
  },
  {
   "cell_type": "markdown",
   "metadata": {},
   "source": [
    "### Assumptions\n",
    "\n",
    "To find the best fit, Assumptions are checked. \n",
    "\n",
    "Multiple linear regression analysis makes several key assumptions.\n",
    "Linear regression assumes the following assumptions:\n",
    "1. linear relationship:\n",
    "    * Linear relationship between dependent and independent variable\n",
    "    * **Assumption voilated:** According to the scatter plot there seems no relationship between the variables.\n",
    "2. Multivariate Normality\n",
    "    * Dependent variable is normally distributed\n",
    "    * **Assumption voilated:** When refering to the q-q plot above we see that there are extreme values which was not expected in normal distribution.\n",
    "3. No Multicollinearity\n",
    "    * No high correlation between dependent and indepenedent variable.\n",
    "    * **Assumption voilated:** There is multicolinearity in the model, it can be seen in the vif table which has variable with high VIF.\n",
    "4. Homoscedasticity\n",
    "    * the variance around the regression line is the same for all values of the predictor variable (X). For each value of X, the distribution of residuals has the same variance. This means that the level of error in the model is roughly the same regardless of the value of the explanatory variable \n",
    "    * **Assumption voilated:** Since the variance of X variable is not constant in the scatter plot, thus the model is not Homoscedastic."
   ]
  },
  {
   "cell_type": "markdown",
   "metadata": {},
   "source": [
    "**Comparing AIC, BIC, R^2**\n",
    "\n",
    "**AIC:** Akaike information criterion. It is a model selection tool. AIC has preference for more complex models compared to Bayesian Information Criterion (BIC). To use AIC for model selection, we simply chose the model giving smallest AIC over the whole set of candidates. AIC attempts to mitigate the risk of over-fitting \n",
    "\n",
    "**BIC:** Bayesian information criterion (BIC).  is a criterion for model selection among a finite set of models. \n",
    "\n",
    "**R ^2 :** R-squared is a statistical measure of how close the data are to the fitted regression line.\n",
    "\n",
    "**MODEL1**\n",
    "    * AIC: 3905\n",
    "    * BIC: 4024\n",
    "    * ADJ. R^2: 0.338\n",
    "**MODEL2**\n",
    "    * AIC: 3944\n",
    "    * BIC: 3993\n",
    "    * ADJ. R^2: 0.334\n",
    "**MODEL3**\n",
    "    * AIC: 4338\n",
    "    * BIC: 4443\n",
    "    * ADJ. R^2: 0.301\n",
    "    \n",
    "Based on AIC, BIC Model 2 is best fit.\n",
    "\n",
    "Based on adj.R^2 model1 is the best fit."
   ]
  },
  {
   "cell_type": "markdown",
   "metadata": {},
   "source": [
    "# Logistic Regression"
   ]
  },
  {
   "cell_type": "markdown",
   "metadata": {},
   "source": [
    "Logistic regression measures the relationship between the categorical response variable and one or more predictor variables by estimating probabilities.\n",
    "\n",
    "A logistic function or logistic curve is a common \"S\" shape curve, with equation:\n",
    "\n",
    "$$f(x) = \\frac{1}{1 + \\mathrm e^{-x}} $$\n",
    "$$f(x) = \\frac{L}{1 + \\mathrm e^{-k(x-x_0)}} $$\n",
    "where\n",
    "\n",
    "$e$ = the natural logarithm base $e$ (also known as $e$ or Euler's number),\n",
    "$x_0$ = the $x$-value of the sigmoid's midpoint,\n",
    "$L$ = the curve's maximum value, and\n",
    "$k$ = the steepness of the curve.\n",
    "x lies in the range $-\\infty$ to $\\infty$\n",
    "\n",
    "**Types of Logistic Regression**\n",
    "* Binary Logistic Regression\n",
    "* Multi-class Logistic Regression"
   ]
  },
  {
   "cell_type": "markdown",
   "metadata": {},
   "source": [
    "## Binary Logistic Regression"
   ]
  },
  {
   "cell_type": "markdown",
   "metadata": {},
   "source": [
    "### Model 1"
   ]
  },
  {
   "cell_type": "code",
   "execution_count": null,
   "metadata": {},
   "outputs": [],
   "source": [
    "columns = ['age','sex_M','sex_F','kappa','lambda','flc.grp','creatinine','chapter_Congenital',\n",
    "                            'chapter_Digestive','chapter_Endocrine','chapter_Genitourinary','chapter_Mental',\n",
    "                            'chapter_Musculoskeletal','chapter_Neoplasms',\n",
    "                            'chapter_Respiratory']\n",
    "Y = df['death']\n",
    "X = df[columns]\n"
   ]
  },
  {
   "cell_type": "markdown",
   "metadata": {},
   "source": [
    "**Spliting and traing the model**\n",
    "\n",
    "70% is the Training data and 30% data is Testing data"
   ]
  },
  {
   "cell_type": "code",
   "execution_count": null,
   "metadata": {},
   "outputs": [],
   "source": [
    "X_train, X_test, y_train, y_test = train_test_split(X, Y, test_size = 0.3, random_state = 0)"
   ]
  },
  {
   "cell_type": "markdown",
   "metadata": {},
   "source": [
    "**Building the logistic Regression model 1** "
   ]
  },
  {
   "cell_type": "code",
   "execution_count": null,
   "metadata": {
    "scrolled": true
   },
   "outputs": [],
   "source": [
    "l_modelb1 = linear_model.LogisticRegression()\n",
    "result= l_modelb1.fit(X_train, y_train)\n",
    "\n",
    "#print (l_model.intercept_, l_model.coef_)"
   ]
  },
  {
   "cell_type": "code",
   "execution_count": null,
   "metadata": {
    "scrolled": true
   },
   "outputs": [],
   "source": [
    "trainscore = l_modelb1.score(X_train, y_train)\n",
    "print(\"Training Score\",trainscore*100)"
   ]
  },
  {
   "cell_type": "code",
   "execution_count": null,
   "metadata": {},
   "outputs": [],
   "source": [
    "confidence = l_modelb1.score(X_test, y_test)\n",
    "confidence*100"
   ]
  },
  {
   "cell_type": "code",
   "execution_count": null,
   "metadata": {},
   "outputs": [],
   "source": [
    "score = l_modelb1.score(X_train, y_train)\n",
    "print(\"Score  = \",score*100,\"%\")"
   ]
  },
  {
   "cell_type": "code",
   "execution_count": null,
   "metadata": {},
   "outputs": [],
   "source": [
    " model = sm.Logit(y_train, X_train)\n",
    "result = model.fit()\n",
    "result.summary()"
   ]
  },
  {
   "cell_type": "code",
   "execution_count": null,
   "metadata": {
    "scrolled": true
   },
   "outputs": [],
   "source": [
    "kf = RepeatedKFold(n_splits=5, n_repeats=10, random_state=None)\n",
    "creatinine = []\n",
    "for train, test in kf.split(X):\n",
    "   l_modelb1.fit(X.iloc[train],Y.iloc[train])\n",
    "   creatinine.append(np.sqrt(metrics.mean_squared_error(Y.iloc[test], l_modelb1.predict(X.iloc[test]))))"
   ]
  },
  {
   "cell_type": "code",
   "execution_count": null,
   "metadata": {},
   "outputs": [],
   "source": [
    "trainscore = l_modelb1.score(X_train, y_train)\n",
    "print(\"Training Score\",trainscore*100)"
   ]
  },
  {
   "cell_type": "code",
   "execution_count": null,
   "metadata": {},
   "outputs": [],
   "source": [
    "confidence = l_modelb1.score(X_test, y_test)\n",
    "confidence*100"
   ]
  },
  {
   "cell_type": "code",
   "execution_count": null,
   "metadata": {
    "scrolled": true
   },
   "outputs": [],
   "source": [
    "y_pred_proba = l_modelb1.predict_proba(X_test)[::,1]\n",
    "fpr, tpr, _ = metrics.roc_curve(y_test,  y_pred_proba)\n",
    "auc = metrics.roc_auc_score(y_test, y_pred_proba)\n",
    "plt.plot(fpr,tpr,label=\"data, auc=\"+str(auc))\n",
    "plt.legend(loc=4)\n",
    "plt.show()"
   ]
  },
  {
   "cell_type": "markdown",
   "metadata": {},
   "source": [
    "the ROC curve is far from assumed diagnol line. \n",
    "\n",
    "So the model is accurate.\n",
    "\n",
    "AUC = 0: bad model\n",
    "\n",
    "AUC = 1: good model"
   ]
  },
  {
   "cell_type": "markdown",
   "metadata": {},
   "source": [
    "### Model 2"
   ]
  },
  {
   "cell_type": "code",
   "execution_count": null,
   "metadata": {},
   "outputs": [],
   "source": [
    "columns = ['age','sex_M','sex_F','kappa','futime','creatinine','chapter_Congenital',\n",
    "                            'chapter_Digestive','chapter_Mental', 'chapter_Musculoskeletal',                            \n",
    "                            'chapter_Respiratory']\n",
    "Y = df['death']\n",
    "X= df[columns]\n"
   ]
  },
  {
   "cell_type": "code",
   "execution_count": null,
   "metadata": {},
   "outputs": [],
   "source": [
    "X_train, X_test, y_train, y_test = train_test_split(X, Y, test_size = 0.3, random_state = 0)"
   ]
  },
  {
   "cell_type": "code",
   "execution_count": null,
   "metadata": {
    "scrolled": true
   },
   "outputs": [],
   "source": [
    "l_modelb2 = linear_model.LogisticRegression()\n",
    "result= l_modelb2.fit(X_train, y_train)\n"
   ]
  },
  {
   "cell_type": "code",
   "execution_count": null,
   "metadata": {
    "scrolled": true
   },
   "outputs": [],
   "source": [
    "score = l_modelb2.score(X_train, y_train)\n",
    "print(\"Training Score  = \",score*100,\"%\")"
   ]
  },
  {
   "cell_type": "code",
   "execution_count": null,
   "metadata": {},
   "outputs": [],
   "source": [
    "confidence = l_modelb2.score(X_test, y_test)\n",
    "confidence*100"
   ]
  },
  {
   "cell_type": "code",
   "execution_count": null,
   "metadata": {},
   "outputs": [],
   "source": [
    " model = sm.Logit(Y,X)\n",
    "result = model.fit()\n",
    "result.summary()"
   ]
  },
  {
   "cell_type": "code",
   "execution_count": null,
   "metadata": {},
   "outputs": [],
   "source": [
    "kf = RepeatedKFold(n_splits=5, n_repeats=10, random_state=None)\n",
    "creatinine = []\n",
    "for train, test in kf.split(X):\n",
    "   l_modelb2.fit(X.iloc[train],Y.iloc[train])\n",
    "   creatinine.append(np.sqrt(metrics.mean_squared_error(Y.iloc[test], l_modelb2.predict(X.iloc[test]))))"
   ]
  },
  {
   "cell_type": "code",
   "execution_count": null,
   "metadata": {},
   "outputs": [],
   "source": [
    "trainscore = l_modelb2.score(X_train, y_train)\n",
    "print(\"Training Score\",trainscore*100)"
   ]
  },
  {
   "cell_type": "code",
   "execution_count": null,
   "metadata": {
    "scrolled": true
   },
   "outputs": [],
   "source": [
    "confidence = l_modelb2.score(X_test, y_test)\n",
    "confidence*100"
   ]
  },
  {
   "cell_type": "code",
   "execution_count": null,
   "metadata": {},
   "outputs": [],
   "source": [
    "###Confusion matrix with sklearn\n",
    "from sklearn.metrics import confusion_matrix, roc_curve, roc_auc_score\n",
    "confusion_matrix(l_modelb2.predict(X_train),y_train)"
   ]
  },
  {
   "cell_type": "code",
   "execution_count": null,
   "metadata": {
    "scrolled": true
   },
   "outputs": [],
   "source": [
    "y_pred_proba = l_modelb2.predict_proba(X_test)[::,1]\n",
    "fpr, tpr, _ = metrics.roc_curve(y_test,  y_pred_proba)\n",
    "auc = metrics.roc_auc_score(y_test, y_pred_proba)\n",
    "plt.plot(fpr,tpr,label=\"data, auc=\"+str(auc))\n",
    "plt.legend(loc=4)\n",
    "plt.show()"
   ]
  },
  {
   "cell_type": "markdown",
   "metadata": {},
   "source": [
    "the ROC curve is far from assumed diagnol line. \n",
    "\n",
    "So the model is accurate.\n",
    "\n",
    "AUC = 0: bad model\n",
    "\n",
    "AUC = 1: good mode"
   ]
  },
  {
   "cell_type": "markdown",
   "metadata": {},
   "source": [
    "### Model 3"
   ]
  },
  {
   "cell_type": "code",
   "execution_count": null,
   "metadata": {},
   "outputs": [],
   "source": [
    "\n",
    "columns = ['age','sex_M','sex_F','kappa','lambda','flc.grp','creatinine','chapter_Congenital',\n",
    "                            'chapter_Digestive','chapter_Endocrine','chapter_Genitourinary','chapter_Mental',\n",
    "                            'chapter_Musculoskeletal','chapter_Neoplasms',\n",
    "                            'chapter_Respiratory']\n",
    "X = [columns]\n",
    "Y = df['death']"
   ]
  },
  {
   "cell_type": "code",
   "execution_count": null,
   "metadata": {},
   "outputs": [],
   "source": [
    "X_train, X_test, y_train, y_test = train_test_split(X, Y, test_size = 0.3, random_state = 0)"
   ]
  },
  {
   "cell_type": "code",
   "execution_count": null,
   "metadata": {},
   "outputs": [],
   "source": [
    "l_modelb3 = linear_model.LogisticRegression()\n",
    "result= l_modelb3.fit(X_train, y_train)\n",
    "#print (l_model.intercept_, l_model.coef_)"
   ]
  },
  {
   "cell_type": "code",
   "execution_count": null,
   "metadata": {},
   "outputs": [],
   "source": [
    "trainscore = l_modelb3.score(X_train, y_train)\n",
    "print(\"Training Score\",trainscore*100)"
   ]
  },
  {
   "cell_type": "code",
   "execution_count": null,
   "metadata": {},
   "outputs": [],
   "source": [
    "confidence = l_modelb3.score(X_test, y_test)\n",
    "confidence*100"
   ]
  },
  {
   "cell_type": "code",
   "execution_count": null,
   "metadata": {},
   "outputs": [],
   "source": [
    " model = sm.Logit(y_train, X_train)\n",
    "result = model.fit()\n",
    "result.summary()"
   ]
  },
  {
   "cell_type": "code",
   "execution_count": null,
   "metadata": {
    "scrolled": true
   },
   "outputs": [],
   "source": [
    "kf = RepeatedKFold(n_splits=5, n_repeats=10, random_state=None)\n",
    "creatinine = []\n",
    "for train, test in kf.split(X):\n",
    "   l_modelb3.fit(X.iloc[train],Y.iloc[train])\n",
    "   creatinine.append(np.sqrt(metrics.mean_squared_error(Y.iloc[test], l_modelb3.predict(X.iloc[test]))))"
   ]
  },
  {
   "cell_type": "code",
   "execution_count": null,
   "metadata": {},
   "outputs": [],
   "source": [
    "predict = l_modelb3.predict(X_test)"
   ]
  },
  {
   "cell_type": "code",
   "execution_count": null,
   "metadata": {},
   "outputs": [],
   "source": [
    "from sklearn.metrics import accuracy_score\n",
    "accuracy_score(y_test, predict)"
   ]
  },
  {
   "cell_type": "code",
   "execution_count": null,
   "metadata": {},
   "outputs": [],
   "source": [
    "trainscore = l_modelb3.score(X_train, y_train)\n",
    "print(\"Training Score\",trainscore*100)"
   ]
  },
  {
   "cell_type": "code",
   "execution_count": null,
   "metadata": {},
   "outputs": [],
   "source": [
    "confidence = l_modelb3.score(X_test, y_test)\n",
    "confidence*100"
   ]
  },
  {
   "cell_type": "code",
   "execution_count": null,
   "metadata": {},
   "outputs": [],
   "source": [
    "y_pred_proba = l_modelb3.predict_proba(X_test)[::,1]\n",
    "fpr, tpr, _ = metrics.roc_curve(y_test,  y_pred_proba)\n",
    "auc = metrics.roc_auc_score(y_test, y_pred_proba)\n",
    "plt.plot(fpr,tpr,label=\"data, auc=\"+str(auc))\n",
    "plt.legend(loc=4)\n",
    "plt.show()"
   ]
  },
  {
   "cell_type": "markdown",
   "metadata": {},
   "source": [
    "**Multicolinearity**\n",
    "\n",
    "* Colinearity arises when two variables have high correlation and have almost similar variance. \n",
    "* Multicolinearity arises when there are more variables which are highly correlated in particular model. \n",
    "* Multicolinearity is hard to detect because of many variables. \n",
    "* The Variance Inflation Factor (VIF) is a measure of colinearity among predictor variables within a multiple regression. It is calculated by taking the the ratio of the variance of all a given model's betas divide by the variane of a single beta if it were fit alone. \n",
    "* If the VIF is between **5-10**, multicolinearity is likely present and you should consider dropping the variable.\n",
    "* it is performed in model 1,2,3 of linear regression \n"
   ]
  },
  {
   "cell_type": "markdown",
   "metadata": {},
   "source": [
    "**Regularization**"
   ]
  },
  {
   "cell_type": "markdown",
   "metadata": {},
   "source": [
    "Method of **reducing overfitting** in polynomial models is through the use of regularization.\n",
    "\n",
    "There are 2 types of regularization:\n",
    "\n",
    "L1 and L2\n",
    "\n",
    "**Ridge Regression:**\n",
    "* Performs L2 regularization, i.e. adds penalty equivalent to square of the magnitude of coefficients\n",
    "Minimization objective = LS Obj + α * (sum of square of coefficients).ridge regression shrinks the coefficients and it helps to reduce the model complexity and multi-collinearity.\n",
    "    * large the alpha the less variance your model will exhibit.\n",
    "\n",
    "**Lasso Regression:**\n",
    "* Performs L1 regularization, i.e. adds penalty equivalent to absolute value of the magnitude of coefficients\n",
    "Minimization objective = LS Obj + α * (sum of absolute value of coefficients)"
   ]
  },
  {
   "cell_type": "markdown",
   "metadata": {},
   "source": [
    "**Interaction effect**\n",
    "\n",
    "An interaction effect is the simultaneous effect of two or more independent variables on at least one dependent variable.\n",
    "The presence of interaction effects in any kind of survey research is important because it tells researchers how two or more independent variables work together to impact the dependent variable. "
   ]
  },
  {
   "cell_type": "markdown",
   "metadata": {},
   "source": [
    "# Conclusion"
   ]
  },
  {
   "cell_type": "markdown",
   "metadata": {},
   "source": [
    "# Contribution"
   ]
  },
  {
   "cell_type": "markdown",
   "metadata": {},
   "source": [
    "# Citation\n",
    "\n",
    "* https://towardsdatascience.com/linear-regression-on-boston-housing-dataset-f409b7e4a155\n",
    "* https://pythonfordatascience.org/linear-regression-python/\n",
    "* http://enhancedatascience.com/2017/04/23/tutorial-logistic-regression-python/\n",
    "* https://towardsdatascience.com/ridge-and-lasso-regression-a-complete-guide-with-python-scikit-learn-e20e34bcbf0b\n",
    "* https://datascience.stackexchange.com/questions/24405/how-to-do-stepwise-regression-using-sklearn\n"
   ]
  },
  {
   "cell_type": "markdown",
   "metadata": {},
   "source": [
    "# License\n",
    "Copyright 2019 Urja Jain\n",
    "\n",
    "Permission is hereby granted, free of charge, to any person obtaining a copy of this software and associated documentation files (the \"Software\"), to deal in the Software without restriction, including without limitation the rights to use, copy, modify, merge, publish, distribute, sublicense, and/or sell copies of the Software, and to permit persons to whom the Software is furnished to do so, subject to the following conditions:\n",
    "\n",
    "The above copyright notice and this permission notice shall be included in all copies or substantial portions of the Software.\n",
    "\n",
    "THE SOFTWARE IS PROVIDED \"AS IS\", WITHOUT WARRANTY OF ANY KIND, EXPRESS OR IMPLIED, INCLUDING BUT NOT LIMITED TO THE WARRANTIES OF MERCHANTABILITY, FITNESS FOR A PARTICULAR PURPOSE AND NONINFRINGEMENT. IN NO EVENT SHALL THE AUTHORS OR COPYRIGHT HOLDERS BE LIABLE FOR ANY CLAIM, DAMAGES OR OTHER LIABILITY, WHETHER IN AN ACTION OF CONTRACT, TORT OR OTHERWISE, ARISING FROM, OUT OF OR IN CONNECTION WITH THE SOFTWARE OR THE USE OR OTHER DEALINGS IN THE SOFTWARE."
   ]
  }
 ],
 "metadata": {
  "kernelspec": {
   "display_name": "Python 3",
   "language": "python",
   "name": "python3"
  },
  "language_info": {
   "codemirror_mode": {
    "name": "ipython",
    "version": 3
   },
   "file_extension": ".py",
   "mimetype": "text/x-python",
   "name": "python",
   "nbconvert_exporter": "python",
   "pygments_lexer": "ipython3",
   "version": "3.7.1"
  }
 },
 "nbformat": 4,
 "nbformat_minor": 2
}
